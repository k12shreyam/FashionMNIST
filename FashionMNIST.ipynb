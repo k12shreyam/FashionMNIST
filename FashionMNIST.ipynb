{
 "cells": [
  {
   "cell_type": "code",
   "execution_count": 2,
   "metadata": {},
   "outputs": [],
   "source": [
    "import torch\n",
    "import torchvision\n",
    "import torchvision.transforms as transforms\n",
    "import torch.nn as nn\n",
    "import torch.nn.functional as F\n",
    "import torch.optim as optim\n",
    "\n",
    "import numpy as np\n",
    "import matplotlib.pyplot as plt"
   ]
  },
  {
   "cell_type": "code",
   "execution_count": 3,
   "metadata": {},
   "outputs": [],
   "source": [
    "#Extract and Transform\n",
    "train_set=torchvision.datasets.FashionMNIST(root='./data',train=True,download=True,\n",
    "                                           transform=transforms.Compose([transforms.ToTensor()]))"
   ]
  },
  {
   "cell_type": "code",
   "execution_count": 4,
   "metadata": {},
   "outputs": [
    {
     "data": {
      "text/plain": [
       "60000"
      ]
     },
     "execution_count": 4,
     "metadata": {},
     "output_type": "execute_result"
    }
   ],
   "source": [
    "len(train_set)"
   ]
  },
  {
   "cell_type": "code",
   "execution_count": 5,
   "metadata": {},
   "outputs": [
    {
     "data": {
      "text/plain": [
       "tensor([9, 0, 0,  ..., 3, 0, 5])"
      ]
     },
     "execution_count": 5,
     "metadata": {},
     "output_type": "execute_result"
    }
   ],
   "source": [
    "train_set.targets   #1st image is 9 and so on.."
   ]
  },
  {
   "cell_type": "code",
   "execution_count": 6,
   "metadata": {},
   "outputs": [
    {
     "data": {
      "text/plain": [
       "tensor([6000, 6000, 6000, 6000, 6000, 6000, 6000, 6000, 6000, 6000])"
      ]
     },
     "execution_count": 6,
     "metadata": {},
     "output_type": "execute_result"
    }
   ],
   "source": [
    "#how many of each label exist\n",
    "train_set.targets.bincount()       #result: balanced dataset"
   ]
  },
  {
   "cell_type": "code",
   "execution_count": 7,
   "metadata": {},
   "outputs": [
    {
     "data": {
      "text/plain": [
       "2"
      ]
     },
     "execution_count": 7,
     "metadata": {},
     "output_type": "execute_result"
    }
   ],
   "source": [
    "sample=next(iter(train_set))\n",
    "\n",
    "len(sample)      # sample contains 2 items, and this is because the dataset contains image-label pairs.\n",
    "                 #  Each sample we retrieve from the training set contains the image data as a tensor and\n",
    "                 #  the corresponding label as a tensor."
   ]
  },
  {
   "cell_type": "code",
   "execution_count": 8,
   "metadata": {},
   "outputs": [],
   "source": [
    "image,label=sample   #same as image=sample[0]\n",
    "                     #        label=sample[1] "
   ]
  },
  {
   "cell_type": "code",
   "execution_count": 9,
   "metadata": {},
   "outputs": [
    {
     "name": "stdout",
     "output_type": "stream",
     "text": [
      "<class 'torch.Tensor'>\n",
      "<class 'int'>\n"
     ]
    }
   ],
   "source": [
    "print(type(image))\n",
    "print(type(label))"
   ]
  },
  {
   "cell_type": "code",
   "execution_count": 10,
   "metadata": {},
   "outputs": [
    {
     "name": "stdout",
     "output_type": "stream",
     "text": [
      "torch.Size([1, 28, 28])\n"
     ]
    }
   ],
   "source": [
    "print(image.shape)\n",
    "#print(label.shape)"
   ]
  },
  {
   "cell_type": "code",
   "execution_count": 11,
   "metadata": {},
   "outputs": [
    {
     "name": "stdout",
     "output_type": "stream",
     "text": [
      "Label: tensor(9)\n"
     ]
    },
    {
     "data": {
      "image/png": "[encoded data removed]",
      "text/plain": [
       "<Figure size 432x288 with 1 Axes>"
      ]
     },
     "metadata": {},
     "output_type": "display_data"
    }
   ],
   "source": [
    "plt.imshow(image.squeeze(),cmap=\"gray\")\n",
    "print(\"Label:\",torch.tensor(label))"
   ]
  },
  {
   "cell_type": "code",
   "execution_count": 12,
   "metadata": {},
   "outputs": [],
   "source": [
    "#loading data\n",
    "data_loader=torch.utils.data.DataLoader(train_set,batch_size=100)  #get batch"
   ]
  },
  {
   "cell_type": "code",
   "execution_count": 13,
   "metadata": {},
   "outputs": [
    {
     "data": {
      "text/plain": [
       "2"
      ]
     },
     "execution_count": 13,
     "metadata": {},
     "output_type": "execute_result"
    }
   ],
   "source": [
    "batch=next(iter(data_loader))\n",
    "len(batch)"
   ]
  },
  {
   "cell_type": "code",
   "execution_count": 14,
   "metadata": {},
   "outputs": [
    {
     "name": "stdout",
     "output_type": "stream",
     "text": [
      "<class 'torch.Tensor'>\n",
      "<class 'torch.Tensor'>\n",
      "torch.Size([100, 1, 28, 28])\n",
      "torch.Size([100])\n"
     ]
    }
   ],
   "source": [
    "images,labels=batch\n",
    "\n",
    "print(type(images))\n",
    "print(type(labels))\n",
    "\n",
    "print(images.shape)\n",
    "print(labels.shape)"
   ]
  },
  {
   "cell_type": "code",
   "execution_count": 15,
   "metadata": {},
   "outputs": [
    {
     "name": "stdout",
     "output_type": "stream",
     "text": [
      "torch.Size([1, 28, 28])\n",
      "tensor(9)\n"
     ]
    }
   ],
   "source": [
    "print(images[0].shape)\n",
    "print(labels[0])"
   ]
  },
  {
   "cell_type": "code",
   "execution_count": 16,
   "metadata": {},
   "outputs": [
    {
     "name": "stdout",
     "output_type": "stream",
     "text": [
      "Labels: tensor([9, 0, 0, 3, 0, 2, 7, 2, 5, 5, 0, 9, 5, 5, 7, 9, 1, 0, 6, 4, 3, 1, 4, 8,\n",
      "        4, 3, 0, 2, 4, 4, 5, 3, 6, 6, 0, 8, 5, 2, 1, 6, 6, 7, 9, 5, 9, 2, 7, 3,\n",
      "        0, 3, 3, 3, 7, 2, 2, 6, 6, 8, 3, 3, 5, 0, 5, 5, 0, 2, 0, 0, 4, 1, 3, 1,\n",
      "        6, 3, 1, 4, 4, 6, 1, 9, 1, 3, 5, 7, 9, 7, 1, 7, 9, 9, 9, 3, 2, 9, 3, 6,\n",
      "        4, 1, 1, 8])\n"
     ]
    },
    {
     "data": {
      "image/png": "[encoded data removed]",
      "text/plain": [
       "<Figure size 432x288 with 1 Axes>"
      ]
     },
     "metadata": {},
     "output_type": "display_data"
    }
   ],
   "source": [
    "grid=torchvision.utils.make_grid(images,nrow=10)\n",
    "plt.imshow(np.transpose(grid,(1,2,0)))     #or plt.imshow(grid.permute(1,2,0))     \n",
    "print(\"Labels:\",labels)\n",
    "\n",
    "#The reason for using plt.imshow(np.transpose(grid, (1,2,0))):\n",
    "#For a colored image... plt.imshow takes image dimension in following form [height width channels]\n",
    "#...while pytorch follows [channels height width]... so for compatibility we have to change pytorch dimensions\n",
    "#so that channels appear at end... the standard representation of array is [axis0 axis1 axis2].... \n",
    "#so we have to convert (0,1,2) to (1,2,0) form to make it compatible for imshow....\n",
    "\n"
   ]
  },
  {
   "cell_type": "code",
   "execution_count": 17,
   "metadata": {},
   "outputs": [],
   "source": [
    "class Network(nn.Module):\n",
    "    def __init__(self):\n",
    "        super().__init__()\n",
    "        #Convolution layers\n",
    "        self.conv1=nn.Conv2d(in_channels=1,out_channels=6,kernel_size=5)\n",
    "        self.conv2=nn.Conv2d(in_channels=6,out_channels=12,kernel_size=5)\n",
    "        \n",
    "        #Linear layers\n",
    "        self.fc1=nn.Linear(in_features=12*4*4,out_features=120)\n",
    "        self.fc2=nn.Linear(in_features=120,out_features=60)\n",
    "        self.out=nn.Linear(in_features=60,out_features=10)\n",
    "        \n",
    "        #If we count the input layer,then there are total 6 layers\n",
    "    \n",
    "    #In neural network programming, the forward method of a network instance explicitly defines the network's transformation\n",
    "    def forward(self,t):\n",
    "        #(1) i/p layer\n",
    "        t=t     #it is identity matrix,in most cases we dont define input layer as whatever is input that is going to be output.\n",
    "        \n",
    "        #(2) 1st hidden conv. layer\n",
    "        t=self.conv1(t)              #When want to call the forward() method of a nn.Module instance,\n",
    "                                     #we call the actual instance instead of calling the forward() method directly.\n",
    "                                    #Instead of doing this self.conv1.forward(tensor), we do this self.conv1(tensor)\n",
    "        \n",
    "        t=F.relu(t)\n",
    "        t=F.max_pool2d(t,kernel_size=2,stride=2)\n",
    "        \n",
    "        #(3) 2nd hidden conv. layer\n",
    "        t=self.conv2(t)\n",
    "        t=F.relu(t)\n",
    "        t=F.max_pool2d(t,kernel_size=2,stride=2)  #relu() and the max_pool2d() calls are just pure operations,neither of these have weights.\n",
    "        \n",
    "        #(4) 1st hidden linear layer\n",
    "        t=t.reshape(-1,12*4*4)     # 12 in the reshaping operation is determined by the number of o/p channels coming from the previous conv. layer.\n",
    "                                   # 4*4 is the actual height and width of each of 12 o/p channels. \n",
    "        t=self.fc1(t)\n",
    "        t=F.relu(t)\n",
    "        \n",
    "        #(5) 2nd hidden linear layer\n",
    "        t=self.fc2(t)\n",
    "        t=F.relu(t)\n",
    "        \n",
    "        #(6) o/p layer\n",
    "        t=self.out(t)\n",
    "        \n",
    "        return t\n",
    "    \n",
    "    #Execution of the forward() is the process of \"forward propagation\"\n",
    "    #The o/p of the forward() func. in which image tensor is passed is the \"network's prediction\""
   ]
  },
  {
   "cell_type": "code",
   "execution_count": 18,
   "metadata": {},
   "outputs": [
    {
     "data": {
      "text/plain": [
       "<torch.autograd.grad_mode.set_grad_enabled at 0x20829652a90>"
      ]
     },
     "execution_count": 18,
     "metadata": {},
     "output_type": "execute_result"
    }
   ],
   "source": [
    "torch.set_grad_enabled(True)"
   ]
  },
  {
   "cell_type": "code",
   "execution_count": 19,
   "metadata": {},
   "outputs": [
    {
     "data": {
      "text/plain": [
       "torch.Size([1, 1, 28, 28])"
      ]
     },
     "execution_count": 19,
     "metadata": {},
     "output_type": "execute_result"
    }
   ],
   "source": [
    "image.unsqueeze(0).shape   #this will introduce batch size=1"
   ]
  },
  {
   "cell_type": "code",
   "execution_count": 20,
   "metadata": {},
   "outputs": [],
   "source": [
    "network=Network()"
   ]
  },
  {
   "cell_type": "code",
   "execution_count": 21,
   "metadata": {},
   "outputs": [],
   "source": [
    "pred=network(image.unsqueeze(0))"
   ]
  },
  {
   "cell_type": "code",
   "execution_count": 22,
   "metadata": {},
   "outputs": [
    {
     "data": {
      "text/plain": [
       "tensor([[-0.0422, -0.1692, -0.0126, -0.0694,  0.1031,  0.1398,  0.0393,  0.0715,\n",
       "         -0.0365, -0.1520]], grad_fn=<AddmmBackward>)"
      ]
     },
     "execution_count": 22,
     "metadata": {},
     "output_type": "execute_result"
    }
   ],
   "source": [
    "pred   #these are prediction values"
   ]
  },
  {
   "cell_type": "code",
   "execution_count": 23,
   "metadata": {},
   "outputs": [
    {
     "data": {
      "text/plain": [
       "torch.Size([1, 10])"
      ]
     },
     "execution_count": 23,
     "metadata": {},
     "output_type": "execute_result"
    }
   ],
   "source": [
    "pred.shape            #1,10 == (batch size, number of prediction classes)"
   ]
  },
  {
   "cell_type": "code",
   "execution_count": 24,
   "metadata": {},
   "outputs": [
    {
     "data": {
      "text/plain": [
       "tensor(5, grad_fn=<NotImplemented>)"
      ]
     },
     "execution_count": 24,
     "metadata": {},
     "output_type": "execute_result"
    }
   ],
   "source": [
    "pred.argmax()"
   ]
  },
  {
   "cell_type": "code",
   "execution_count": 25,
   "metadata": {},
   "outputs": [
    {
     "data": {
      "text/plain": [
       "tensor([[0.0966, 0.0851, 0.0996, 0.0941, 0.1118, 0.1159, 0.1049, 0.1083, 0.0972,\n",
       "         0.0866]], grad_fn=<SoftmaxBackward>)"
      ]
     },
     "execution_count": 25,
     "metadata": {},
     "output_type": "execute_result"
    }
   ],
   "source": [
    "#to convert prediction values to probabilities values we use softmax function\n",
    "\n",
    "F.softmax(pred,dim=1)"
   ]
  },
  {
   "cell_type": "code",
   "execution_count": 26,
   "metadata": {},
   "outputs": [
    {
     "data": {
      "text/plain": [
       "tensor(1.0000, grad_fn=<SumBackward0>)"
      ]
     },
     "execution_count": 26,
     "metadata": {},
     "output_type": "execute_result"
    }
   ],
   "source": [
    "F.softmax(pred,dim=1).sum()"
   ]
  },
  {
   "cell_type": "code",
   "execution_count": 27,
   "metadata": {},
   "outputs": [],
   "source": [
    "#The label for the first image in our training set is 9, and using the argmax() function we can see that the highest value\n",
    "#in our prediction tensor occurred at the class represented by index 1.\n",
    "\n",
    "#Prediction : Trouser(1)\n",
    "#Actual : Ankle Boot(9)\n",
    "\n",
    "#The prediction in this case is INCORRECT, which is what we expect because the weights in the network were generated randomly."
   ]
  },
  {
   "cell_type": "code",
   "execution_count": 28,
   "metadata": {},
   "outputs": [],
   "source": [
    "net1=Network()\n",
    "net2=Network()"
   ]
  },
  {
   "cell_type": "code",
   "execution_count": 29,
   "metadata": {},
   "outputs": [
    {
     "data": {
      "text/plain": [
       "tensor([[-0.1001,  0.0879,  0.0849, -0.0609, -0.1220,  0.0054,  0.1401, -0.0004,\n",
       "          0.0363, -0.0844]], grad_fn=<AddmmBackward>)"
      ]
     },
     "execution_count": 29,
     "metadata": {},
     "output_type": "execute_result"
    }
   ],
   "source": [
    "net1(image.unsqueeze(0))"
   ]
  },
  {
   "cell_type": "code",
   "execution_count": 30,
   "metadata": {},
   "outputs": [
    {
     "data": {
      "text/plain": [
       "tensor([[-0.0744, -0.0157, -0.0219,  0.1035,  0.0089,  0.0262, -0.0260,  0.0689,\n",
       "         -0.0921,  0.0988]], grad_fn=<AddmmBackward>)"
      ]
     },
     "execution_count": 30,
     "metadata": {},
     "output_type": "execute_result"
    }
   ],
   "source": [
    "net2(image.unsqueeze(0))"
   ]
  },
  {
   "cell_type": "code",
   "execution_count": 31,
   "metadata": {},
   "outputs": [],
   "source": [
    "#Each time we create a new instance of our network, the weights within the network will be different.\n",
    "#This means that the predictions we get will be different if we create different networks."
   ]
  },
  {
   "cell_type": "code",
   "execution_count": 32,
   "metadata": {},
   "outputs": [
    {
     "name": "stdout",
     "output_type": "stream",
     "text": [
      "torch.Size([100, 1, 28, 28])\n",
      "torch.Size([100])\n"
     ]
    }
   ],
   "source": [
    "print(images.shape)\n",
    "print(labels.shape)"
   ]
  },
  {
   "cell_type": "code",
   "execution_count": 33,
   "metadata": {},
   "outputs": [],
   "source": [
    "preds=network(images)"
   ]
  },
  {
   "cell_type": "code",
   "execution_count": 34,
   "metadata": {},
   "outputs": [
    {
     "data": {
      "text/plain": [
       "torch.Size([100, 10])"
      ]
     },
     "execution_count": 34,
     "metadata": {},
     "output_type": "execute_result"
    }
   ],
   "source": [
    "preds.shape  #We have ten images and for each of these ten images we have ten prediction classes.  (batch_size,no. of prediction classes)"
   ]
  },
  {
   "cell_type": "code",
   "execution_count": 35,
   "metadata": {},
   "outputs": [
    {
     "data": {
      "text/plain": [
       "tensor([[-0.0422, -0.1692, -0.0126, -0.0694,  0.1031,  0.1398,  0.0393,  0.0715,\n",
       "         -0.0365, -0.1520],\n",
       "        [-0.0560, -0.1688, -0.0139, -0.0682,  0.1126,  0.1372,  0.0468,  0.0648,\n",
       "         -0.0333, -0.1599],\n",
       "        [-0.0552, -0.1638, -0.0217, -0.0655,  0.1056,  0.1377,  0.0408,  0.0723,\n",
       "         -0.0381, -0.1346],\n",
       "        [-0.0546, -0.1639, -0.0209, -0.0700,  0.1068,  0.1368,  0.0443,  0.0715,\n",
       "         -0.0354, -0.1423],\n",
       "        [-0.0486, -0.1707, -0.0104, -0.0668,  0.1083,  0.1417,  0.0502,  0.0688,\n",
       "         -0.0288, -0.1600],\n",
       "        [-0.0549, -0.1692, -0.0178, -0.0712,  0.1102,  0.1369,  0.0499,  0.0697,\n",
       "         -0.0327, -0.1546],\n",
       "        [-0.0420, -0.1629, -0.0075, -0.0711,  0.1086,  0.1359,  0.0339,  0.0681,\n",
       "         -0.0382, -0.1417],\n",
       "        [-0.0578, -0.1700, -0.0145, -0.0683,  0.1132,  0.1362,  0.0463,  0.0690,\n",
       "         -0.0313, -0.1629],\n",
       "        [-0.0584, -0.1643, -0.0244, -0.0624,  0.1118,  0.1275,  0.0266,  0.0689,\n",
       "         -0.0429, -0.1170],\n",
       "        [-0.0455, -0.1613, -0.0144, -0.0664,  0.1085,  0.1334,  0.0332,  0.0670,\n",
       "         -0.0376, -0.1298],\n",
       "        [-0.0548, -0.1660, -0.0150, -0.0667,  0.1080,  0.1378,  0.0467,  0.0665,\n",
       "         -0.0344, -0.1525],\n",
       "        [-0.0462, -0.1654, -0.0064, -0.0674,  0.1072,  0.1366,  0.0453,  0.0675,\n",
       "         -0.0317, -0.1641],\n",
       "        [-0.0480, -0.1647, -0.0153, -0.0664,  0.1030,  0.1374,  0.0372,  0.0693,\n",
       "         -0.0392, -0.1405],\n",
       "        [-0.0551, -0.1619, -0.0131, -0.0683,  0.1114,  0.1290,  0.0329,  0.0683,\n",
       "         -0.0393, -0.1346],\n",
       "        [-0.0473, -0.1653, -0.0118, -0.0721,  0.1082,  0.1343,  0.0330,  0.0714,\n",
       "         -0.0393, -0.1356],\n",
       "        [-0.0420, -0.1693, -0.0104, -0.0672,  0.1036,  0.1409,  0.0430,  0.0676,\n",
       "         -0.0400, -0.1517],\n",
       "        [-0.0512, -0.1642, -0.0059, -0.0638,  0.1054,  0.1387,  0.0483,  0.0648,\n",
       "         -0.0287, -0.1554],\n",
       "        [-0.0549, -0.1672, -0.0110, -0.0684,  0.1091,  0.1387,  0.0468,  0.0642,\n",
       "         -0.0321, -0.1556],\n",
       "        [-0.0565, -0.1635, -0.0187, -0.0741,  0.1128,  0.1331,  0.0423,  0.0731,\n",
       "         -0.0353, -0.1519],\n",
       "        [-0.0582, -0.1656, -0.0242, -0.0649,  0.1116,  0.1334,  0.0386,  0.0703,\n",
       "         -0.0376, -0.1328],\n",
       "        [-0.0516, -0.1713, -0.0115, -0.0668,  0.1076,  0.1421,  0.0495,  0.0659,\n",
       "         -0.0291, -0.1588],\n",
       "        [-0.0522, -0.1689, -0.0116, -0.0633,  0.1082,  0.1400,  0.0486,  0.0677,\n",
       "         -0.0285, -0.1564],\n",
       "        [-0.0503, -0.1651, -0.0174, -0.0698,  0.1091,  0.1361,  0.0445,  0.0717,\n",
       "         -0.0340, -0.1539],\n",
       "        [-0.0554, -0.1658, -0.0176, -0.0684,  0.1087,  0.1348,  0.0408,  0.0702,\n",
       "         -0.0382, -0.1475],\n",
       "        [-0.0526, -0.1658, -0.0154, -0.0727,  0.1099,  0.1351,  0.0456,  0.0711,\n",
       "         -0.0282, -0.1587],\n",
       "        [-0.0472, -0.1713, -0.0024, -0.0663,  0.1103,  0.1406,  0.0514,  0.0635,\n",
       "         -0.0293, -0.1647],\n",
       "        [-0.0558, -0.1669, -0.0153, -0.0725,  0.1088,  0.1366,  0.0457,  0.0687,\n",
       "         -0.0337, -0.1563],\n",
       "        [-0.0557, -0.1685, -0.0150, -0.0689,  0.1134,  0.1333,  0.0474,  0.0688,\n",
       "         -0.0295, -0.1639],\n",
       "        [-0.0564, -0.1631, -0.0192, -0.0723,  0.1124,  0.1319,  0.0419,  0.0716,\n",
       "         -0.0328, -0.1454],\n",
       "        [-0.0550, -0.1668, -0.0179, -0.0729,  0.1136,  0.1322,  0.0450,  0.0713,\n",
       "         -0.0292, -0.1571],\n",
       "        [-0.0546, -0.1678, -0.0195, -0.0648,  0.1070,  0.1341,  0.0338,  0.0730,\n",
       "         -0.0412, -0.1291],\n",
       "        [-0.0534, -0.1651, -0.0193, -0.0657,  0.1053,  0.1398,  0.0430,  0.0703,\n",
       "         -0.0358, -0.1419],\n",
       "        [-0.0566, -0.1658, -0.0171, -0.0715,  0.1109,  0.1335,  0.0445,  0.0701,\n",
       "         -0.0318, -0.1526],\n",
       "        [-0.0559, -0.1662, -0.0257, -0.0653,  0.1098,  0.1327,  0.0344,  0.0752,\n",
       "         -0.0423, -0.1219],\n",
       "        [-0.0577, -0.1648, -0.0220, -0.0687,  0.1102,  0.1355,  0.0351,  0.0724,\n",
       "         -0.0424, -0.1311],\n",
       "        [-0.0583, -0.1661, -0.0223, -0.0673,  0.1129,  0.1336,  0.0352,  0.0693,\n",
       "         -0.0402, -0.1347],\n",
       "        [-0.0537, -0.1657, -0.0215, -0.0649,  0.1077,  0.1327,  0.0311,  0.0668,\n",
       "         -0.0404, -0.1284],\n",
       "        [-0.0554, -0.1613, -0.0199, -0.0708,  0.1097,  0.1329,  0.0365,  0.0717,\n",
       "         -0.0394, -0.1365],\n",
       "        [-0.0483, -0.1705, -0.0050, -0.0673,  0.1007,  0.1422,  0.0540,  0.0632,\n",
       "         -0.0254, -0.1571],\n",
       "        [-0.0525, -0.1683, -0.0152, -0.0722,  0.1125,  0.1335,  0.0478,  0.0698,\n",
       "         -0.0268, -0.1640],\n",
       "        [-0.0540, -0.1663, -0.0140, -0.0697,  0.1099,  0.1329,  0.0459,  0.0693,\n",
       "         -0.0325, -0.1552],\n",
       "        [-0.0398, -0.1605, -0.0044, -0.0738,  0.1085,  0.1338,  0.0335,  0.0654,\n",
       "         -0.0355, -0.1387],\n",
       "        [-0.0479, -0.1677, -0.0091, -0.0647,  0.1056,  0.1371,  0.0420,  0.0638,\n",
       "         -0.0379, -0.1554],\n",
       "        [-0.0530, -0.1682, -0.0182, -0.0629,  0.1095,  0.1329,  0.0349,  0.0686,\n",
       "         -0.0452, -0.1383],\n",
       "        [-0.0421, -0.1680, -0.0094, -0.0662,  0.1114,  0.1358,  0.0502,  0.0634,\n",
       "         -0.0295, -0.1535],\n",
       "        [-0.0541, -0.1623, -0.0176, -0.0720,  0.1094,  0.1328,  0.0409,  0.0725,\n",
       "         -0.0350, -0.1478],\n",
       "        [-0.0481, -0.1642, -0.0116, -0.0695,  0.1085,  0.1355,  0.0324,  0.0696,\n",
       "         -0.0404, -0.1394],\n",
       "        [-0.0513, -0.1739, -0.0092, -0.0686,  0.1030,  0.1420,  0.0514,  0.0639,\n",
       "         -0.0239, -0.1599],\n",
       "        [-0.0563, -0.1670, -0.0164, -0.0680,  0.1091,  0.1388,  0.0473,  0.0675,\n",
       "         -0.0354, -0.1536],\n",
       "        [-0.0552, -0.1707, -0.0080, -0.0685,  0.1102,  0.1415,  0.0475,  0.0658,\n",
       "         -0.0312, -0.1645],\n",
       "        [-0.0526, -0.1726, -0.0135, -0.0676,  0.1074,  0.1429,  0.0490,  0.0673,\n",
       "         -0.0287, -0.1567],\n",
       "        [-0.0515, -0.1687, -0.0124, -0.0666,  0.1068,  0.1396,  0.0480,  0.0682,\n",
       "         -0.0310, -0.1582],\n",
       "        [-0.0467, -0.1659, -0.0138, -0.0693,  0.1048,  0.1380,  0.0376,  0.0693,\n",
       "         -0.0389, -0.1404],\n",
       "        [-0.0523, -0.1696, -0.0133, -0.0716,  0.1137,  0.1353,  0.0474,  0.0691,\n",
       "         -0.0285, -0.1666],\n",
       "        [-0.0562, -0.1635, -0.0218, -0.0708,  0.1076,  0.1349,  0.0374,  0.0732,\n",
       "         -0.0382, -0.1330],\n",
       "        [-0.0548, -0.1654, -0.0130, -0.0718,  0.1094,  0.1383,  0.0446,  0.0680,\n",
       "         -0.0364, -0.1567],\n",
       "        [-0.0534, -0.1683, -0.0059, -0.0668,  0.1084,  0.1418,  0.0468,  0.0641,\n",
       "         -0.0296, -0.1551],\n",
       "        [-0.0532, -0.1662, -0.0121, -0.0709,  0.1064,  0.1367,  0.0408,  0.0674,\n",
       "         -0.0344, -0.1550],\n",
       "        [-0.0494, -0.1720, -0.0107, -0.0667,  0.1062,  0.1410,  0.0495,  0.0682,\n",
       "         -0.0284, -0.1621],\n",
       "        [-0.0515, -0.1727, -0.0166, -0.0635,  0.1038,  0.1445,  0.0494,  0.0670,\n",
       "         -0.0307, -0.1460],\n",
       "        [-0.0562, -0.1686, -0.0172, -0.0630,  0.1119,  0.1328,  0.0289,  0.0642,\n",
       "         -0.0426, -0.1355],\n",
       "        [-0.0559, -0.1615, -0.0159, -0.0724,  0.1089,  0.1364,  0.0434,  0.0699,\n",
       "         -0.0366, -0.1482],\n",
       "        [-0.0500, -0.1635, -0.0137, -0.0713,  0.1108,  0.1334,  0.0282,  0.0701,\n",
       "         -0.0400, -0.1313],\n",
       "        [-0.0538, -0.1690, -0.0223, -0.0652,  0.1056,  0.1310,  0.0304,  0.0699,\n",
       "         -0.0382, -0.1243],\n",
       "        [-0.0482, -0.1688, -0.0085, -0.0724,  0.1074,  0.1408,  0.0525,  0.0657,\n",
       "         -0.0270, -0.1601],\n",
       "        [-0.0560, -0.1634, -0.0190, -0.0704,  0.1130,  0.1332,  0.0427,  0.0715,\n",
       "         -0.0354, -0.1546],\n",
       "        [-0.0543, -0.1672, -0.0121, -0.0700,  0.1105,  0.1379,  0.0465,  0.0653,\n",
       "         -0.0336, -0.1574],\n",
       "        [-0.0482, -0.1686, -0.0104, -0.0705,  0.1057,  0.1401,  0.0479,  0.0667,\n",
       "         -0.0288, -0.1548],\n",
       "        [-0.0570, -0.1627, -0.0179, -0.0718,  0.1109,  0.1321,  0.0393,  0.0734,\n",
       "         -0.0337, -0.1469],\n",
       "        [-0.0526, -0.1708, -0.0126, -0.0636,  0.1044,  0.1396,  0.0479,  0.0667,\n",
       "         -0.0297, -0.1464],\n",
       "        [-0.0488, -0.1678, -0.0093, -0.0681,  0.1115,  0.1393,  0.0503,  0.0669,\n",
       "         -0.0281, -0.1646],\n",
       "        [-0.0525, -0.1710, -0.0064, -0.0600,  0.1012,  0.1437,  0.0481,  0.0652,\n",
       "         -0.0299, -0.1545],\n",
       "        [-0.0541, -0.1639, -0.0138, -0.0695,  0.1050,  0.1394,  0.0430,  0.0672,\n",
       "         -0.0355, -0.1453],\n",
       "        [-0.0490, -0.1732, -0.0115, -0.0665,  0.1064,  0.1388,  0.0511,  0.0664,\n",
       "         -0.0280, -0.1624],\n",
       "        [-0.0483, -0.1689, -0.0052, -0.0637,  0.0995,  0.1442,  0.0502,  0.0644,\n",
       "         -0.0290, -0.1513],\n",
       "        [-0.0536, -0.1669, -0.0108, -0.0695,  0.1098,  0.1356,  0.0474,  0.0669,\n",
       "         -0.0290, -0.1641],\n",
       "        [-0.0518, -0.1711, -0.0113, -0.0664,  0.1066,  0.1471,  0.0515,  0.0676,\n",
       "         -0.0276, -0.1558],\n",
       "        [-0.0572, -0.1642, -0.0179, -0.0714,  0.1109,  0.1330,  0.0427,  0.0718,\n",
       "         -0.0353, -0.1540],\n",
       "        [-0.0517, -0.1669, -0.0128, -0.0679,  0.1038,  0.1436,  0.0490,  0.0680,\n",
       "         -0.0285, -0.1459],\n",
       "        [-0.0454, -0.1654, -0.0074, -0.0687,  0.1062,  0.1390,  0.0486,  0.0643,\n",
       "         -0.0304, -0.1509],\n",
       "        [-0.0518, -0.1741, -0.0056, -0.0620,  0.1038,  0.1421,  0.0525,  0.0647,\n",
       "         -0.0253, -0.1564],\n",
       "        [-0.0555, -0.1660, -0.0211, -0.0685,  0.1051,  0.1400,  0.0406,  0.0711,\n",
       "         -0.0368, -0.1369],\n",
       "        [-0.0494, -0.1630, -0.0131, -0.0661,  0.1068,  0.1351,  0.0309,  0.0687,\n",
       "         -0.0348, -0.1309],\n",
       "        [-0.0514, -0.1645, -0.0114, -0.0694,  0.1116,  0.1347,  0.0336,  0.0671,\n",
       "         -0.0426, -0.1445],\n",
       "        [-0.0397, -0.1680, -0.0061, -0.0700,  0.1012,  0.1374,  0.0418,  0.0685,\n",
       "         -0.0326, -0.1569],\n",
       "        [-0.0513, -0.1623, -0.0137, -0.0675,  0.1068,  0.1350,  0.0343,  0.0706,\n",
       "         -0.0413, -0.1413],\n",
       "        [-0.0511, -0.1693, -0.0064, -0.0608,  0.1059,  0.1406,  0.0506,  0.0654,\n",
       "         -0.0273, -0.1580],\n",
       "        [-0.0468, -0.1633, -0.0104, -0.0685,  0.1073,  0.1342,  0.0331,  0.0701,\n",
       "         -0.0391, -0.1349],\n",
       "        [-0.0479, -0.1694, -0.0054, -0.0668,  0.1045,  0.1386,  0.0472,  0.0666,\n",
       "         -0.0336, -0.1618],\n",
       "        [-0.0480, -0.1667, -0.0122, -0.0664,  0.1055,  0.1411,  0.0348,  0.0665,\n",
       "         -0.0396, -0.1440],\n",
       "        [-0.0483, -0.1652, -0.0184, -0.0700,  0.1022,  0.1399,  0.0314,  0.0725,\n",
       "         -0.0420, -0.1331],\n",
       "        [-0.0502, -0.1668, -0.0145, -0.0670,  0.1040,  0.1428,  0.0438,  0.0689,\n",
       "         -0.0330, -0.1472],\n",
       "        [-0.0508, -0.1626, -0.0181, -0.0724,  0.1049,  0.1380,  0.0375,  0.0734,\n",
       "         -0.0370, -0.1311],\n",
       "        [-0.0482, -0.1688, -0.0152, -0.0663,  0.1041,  0.1384,  0.0406,  0.0679,\n",
       "         -0.0364, -0.1479],\n",
       "        [-0.0526, -0.1714, -0.0090, -0.0657,  0.1034,  0.1437,  0.0509,  0.0653,\n",
       "         -0.0281, -0.1573],\n",
       "        [-0.0575, -0.1620, -0.0184, -0.0723,  0.1108,  0.1348,  0.0390,  0.0731,\n",
       "         -0.0384, -0.1425],\n",
       "        [-0.0583, -0.1646, -0.0272, -0.0678,  0.1098,  0.1330,  0.0385,  0.0733,\n",
       "         -0.0411, -0.1294],\n",
       "        [-0.0468, -0.1686, -0.0070, -0.0684,  0.0986,  0.1409,  0.0527,  0.0654,\n",
       "         -0.0261, -0.1521],\n",
       "        [-0.0521, -0.1680, -0.0033, -0.0664,  0.1053,  0.1414,  0.0481,  0.0650,\n",
       "         -0.0304, -0.1586],\n",
       "        [-0.0525, -0.1676, -0.0172, -0.0718,  0.1083,  0.1359,  0.0412,  0.0724,\n",
       "         -0.0349, -0.1484]], grad_fn=<AddmmBackward>)"
      ]
     },
     "execution_count": 35,
     "metadata": {},
     "output_type": "execute_result"
    }
   ],
   "source": [
    "preds"
   ]
  },
  {
   "cell_type": "code",
   "execution_count": 36,
   "metadata": {},
   "outputs": [
    {
     "data": {
      "text/plain": [
       "tensor([5, 5, 5, 5, 5, 5, 5, 5, 5, 5, 5, 5, 5, 5, 5, 5, 5, 5, 5, 5, 5, 5, 5, 5,\n",
       "        5, 5, 5, 5, 5, 5, 5, 5, 5, 5, 5, 5, 5, 5, 5, 5, 5, 5, 5, 5, 5, 5, 5, 5,\n",
       "        5, 5, 5, 5, 5, 5, 5, 5, 5, 5, 5, 5, 5, 5, 5, 5, 5, 5, 5, 5, 5, 5, 5, 5,\n",
       "        5, 5, 5, 5, 5, 5, 5, 5, 5, 5, 5, 5, 5, 5, 5, 5, 5, 5, 5, 5, 5, 5, 5, 5,\n",
       "        5, 5, 5, 5], grad_fn=<NotImplemented>)"
      ]
     },
     "execution_count": 36,
     "metadata": {},
     "output_type": "execute_result"
    }
   ],
   "source": [
    "preds.argmax(dim=1)"
   ]
  },
  {
   "cell_type": "code",
   "execution_count": 37,
   "metadata": {},
   "outputs": [
    {
     "data": {
      "text/plain": [
       "tensor([9, 0, 0, 3, 0, 2, 7, 2, 5, 5, 0, 9, 5, 5, 7, 9, 1, 0, 6, 4, 3, 1, 4, 8,\n",
       "        4, 3, 0, 2, 4, 4, 5, 3, 6, 6, 0, 8, 5, 2, 1, 6, 6, 7, 9, 5, 9, 2, 7, 3,\n",
       "        0, 3, 3, 3, 7, 2, 2, 6, 6, 8, 3, 3, 5, 0, 5, 5, 0, 2, 0, 0, 4, 1, 3, 1,\n",
       "        6, 3, 1, 4, 4, 6, 1, 9, 1, 3, 5, 7, 9, 7, 1, 7, 9, 9, 9, 3, 2, 9, 3, 6,\n",
       "        4, 1, 1, 8])"
      ]
     },
     "execution_count": 37,
     "metadata": {},
     "output_type": "execute_result"
    }
   ],
   "source": [
    "labels"
   ]
  },
  {
   "cell_type": "code",
   "execution_count": 38,
   "metadata": {},
   "outputs": [
    {
     "data": {
      "text/plain": [
       "tensor([False, False, False, False, False, False, False, False,  True,  True,\n",
       "        False, False,  True,  True, False, False, False, False, False, False,\n",
       "        False, False, False, False, False, False, False, False, False, False,\n",
       "         True, False, False, False, False, False,  True, False, False, False,\n",
       "        False, False, False,  True, False, False, False, False, False, False,\n",
       "        False, False, False, False, False, False, False, False, False, False,\n",
       "         True, False,  True,  True, False, False, False, False, False, False,\n",
       "        False, False, False, False, False, False, False, False, False, False,\n",
       "        False, False,  True, False, False, False, False, False, False, False,\n",
       "        False, False, False, False, False, False, False, False, False, False])"
      ]
     },
     "execution_count": 38,
     "metadata": {},
     "output_type": "execute_result"
    }
   ],
   "source": [
    "preds.argmax(dim=1).eq(labels)"
   ]
  },
  {
   "cell_type": "code",
   "execution_count": 39,
   "metadata": {},
   "outputs": [
    {
     "data": {
      "text/plain": [
       "tensor(11)"
      ]
     },
     "execution_count": 39,
     "metadata": {},
     "output_type": "execute_result"
    }
   ],
   "source": [
    "preds.argmax(dim=1).eq(labels).sum()"
   ]
  },
  {
   "cell_type": "code",
   "execution_count": 40,
   "metadata": {},
   "outputs": [],
   "source": [
    "#summary of above batch of predictions which are matching to labels\n",
    "def num_get_correct(preds,labels):\n",
    "    return preds.argmax(dim=1).eq(labels).sum().item()\n",
    "    "
   ]
  },
  {
   "cell_type": "code",
   "execution_count": 41,
   "metadata": {},
   "outputs": [
    {
     "data": {
      "text/plain": [
       "11"
      ]
     },
     "execution_count": 41,
     "metadata": {},
     "output_type": "execute_result"
    }
   ],
   "source": [
    "num_get_correct(preds,labels)"
   ]
  },
  {
   "cell_type": "code",
   "execution_count": 42,
   "metadata": {},
   "outputs": [],
   "source": [
    "#TRAIN THE MODEL"
   ]
  },
  {
   "cell_type": "code",
   "execution_count": 43,
   "metadata": {},
   "outputs": [
    {
     "data": {
      "text/plain": [
       "\"During the entire training process, we do as many epochs as necessary to reach our desired level of accuracy.\\n   With this, we have the following steps:\\n\\n1. Get batch from the training set.\\n2. Pass batch to network.\\n3. Calculate the loss (difference between the predicted values and the true values).\\n4. Calculate the gradient of the loss function w.r.t the network's weights.\\n5. Update the weights using the gradients to reduce the loss.\\n6. Repeat steps 1-5 until one epoch is completed.\\n7. Repeat steps 1-6 for as many epochs required to reach the minimum loss.\""
      ]
     },
     "execution_count": 43,
     "metadata": {},
     "output_type": "execute_result"
    }
   ],
   "source": [
    "'''During the entire training process, we do as many epochs as necessary to reach our desired level of accuracy.\n",
    "   With this, we have the following steps:\n",
    "\n",
    "1. Get batch from the training set.\n",
    "2. Pass batch to network.\n",
    "3. Calculate the loss (difference between the predicted values and the true values).\n",
    "4. Calculate the gradient of the loss function w.r.t the network's weights.\n",
    "5. Update the weights using the gradients to reduce the loss.\n",
    "6. Repeat steps 1-5 until one epoch is completed.\n",
    "7. Repeat steps 1-6 for as many epochs required to reach the minimum loss.'''"
   ]
  },
  {
   "cell_type": "code",
   "execution_count": 44,
   "metadata": {},
   "outputs": [],
   "source": [
    "network=Network()"
   ]
  },
  {
   "cell_type": "code",
   "execution_count": 45,
   "metadata": {},
   "outputs": [],
   "source": [
    "#CALCULATING LOSS"
   ]
  },
  {
   "cell_type": "code",
   "execution_count": 46,
   "metadata": {},
   "outputs": [],
   "source": [
    "preds=network(images)      #pass batch\n",
    "loss=F.cross_entropy(preds,labels)   #calculating loss"
   ]
  },
  {
   "cell_type": "code",
   "execution_count": 47,
   "metadata": {},
   "outputs": [
    {
     "data": {
      "text/plain": [
       "2.2998344898223877"
      ]
     },
     "execution_count": 47,
     "metadata": {},
     "output_type": "execute_result"
    }
   ],
   "source": [
    "loss.item() #The cross_entropy() function returned a scalar valued tenor, \n",
    "            #and so we used the item() method to print the loss as a Python number"
   ]
  },
  {
   "cell_type": "code",
   "execution_count": 48,
   "metadata": {},
   "outputs": [
    {
     "data": {
      "text/plain": [
       "16"
      ]
     },
     "execution_count": 48,
     "metadata": {},
     "output_type": "execute_result"
    }
   ],
   "source": [
    "num_get_correct(preds,labels)   #We got 9 out of 100 correct, and since we have 10 prediction classes, \n",
    "                                #this is what we'd expect by guessing at random."
   ]
  },
  {
   "cell_type": "code",
   "execution_count": 49,
   "metadata": {},
   "outputs": [],
   "source": [
    "#CALCULATING GRADIENTS"
   ]
  },
  {
   "cell_type": "code",
   "execution_count": 50,
   "metadata": {},
   "outputs": [
    {
     "name": "stdout",
     "output_type": "stream",
     "text": [
      "None\n"
     ]
    }
   ],
   "source": [
    "print(network.conv1.weight.grad)"
   ]
  },
  {
   "cell_type": "code",
   "execution_count": 51,
   "metadata": {},
   "outputs": [],
   "source": [
    "loss.backward()  #calculating the gradients"
   ]
  },
  {
   "cell_type": "code",
   "execution_count": 52,
   "metadata": {},
   "outputs": [
    {
     "name": "stdout",
     "output_type": "stream",
     "text": [
      "tensor([[[[-5.0058e-04, -3.6753e-04, -3.8198e-04,  1.1087e-04, -7.4926e-05],\n",
      "          [-7.1230e-04, -6.1504e-04, -4.4359e-04,  1.9337e-04,  4.0115e-05],\n",
      "          [-8.9807e-04, -9.6130e-04, -5.1308e-04, -1.0589e-04, -2.9333e-04],\n",
      "          [-4.9942e-04, -3.4408e-04, -1.5168e-04,  2.1955e-05, -1.3262e-04],\n",
      "          [-5.9155e-04, -3.7111e-04, -2.6867e-04, -9.9272e-05, -8.6323e-05]]],\n",
      "\n",
      "\n",
      "        [[[ 2.0370e-03,  1.5228e-03,  1.6197e-03,  2.0213e-03,  1.9424e-03],\n",
      "          [ 1.9869e-03,  1.5342e-03,  1.4931e-03,  1.7193e-03,  1.5627e-03],\n",
      "          [ 2.0004e-03,  1.6624e-03,  1.2680e-03,  1.1064e-03,  1.5356e-03],\n",
      "          [ 1.8690e-03,  1.4708e-03,  1.0466e-03,  6.5665e-04,  8.2010e-04],\n",
      "          [ 1.7021e-03,  1.3970e-03,  6.6140e-04,  2.3143e-04,  9.8143e-04]]],\n",
      "\n",
      "\n",
      "        [[[-3.1549e-03, -3.1987e-03, -3.0931e-03, -2.9544e-03, -2.6432e-03],\n",
      "          [-3.2658e-03, -3.6657e-03, -3.0888e-03, -2.6763e-03, -2.3080e-03],\n",
      "          [-3.4011e-03, -3.5234e-03, -2.9113e-03, -2.3510e-03, -1.8677e-03],\n",
      "          [-3.3920e-03, -3.2586e-03, -2.7003e-03, -2.4441e-03, -1.4388e-03],\n",
      "          [-3.4887e-03, -3.4074e-03, -2.6897e-03, -1.7501e-03, -9.9138e-04]]],\n",
      "\n",
      "\n",
      "        [[[ 4.9305e-04, -1.9991e-04, -1.0281e-04, -2.7147e-04, -1.6594e-04],\n",
      "          [ 8.6021e-04,  1.2823e-05,  3.7321e-04,  5.5380e-04,  1.8002e-04],\n",
      "          [ 1.0265e-03,  4.4111e-04,  8.2140e-04,  3.1574e-04, -2.3558e-04],\n",
      "          [ 2.1766e-03,  1.2731e-03,  8.8612e-04,  3.3098e-04, -9.1531e-05],\n",
      "          [ 1.8365e-03,  8.2510e-04,  6.4223e-04,  3.5530e-04, -1.7051e-04]]],\n",
      "\n",
      "\n",
      "        [[[-2.1983e-03, -1.6193e-03, -6.3334e-04,  1.8242e-05, -3.1924e-05],\n",
      "          [-1.8774e-03, -1.5535e-03, -9.1409e-04, -4.6364e-04, -2.5623e-04],\n",
      "          [-2.4137e-03, -1.9131e-03, -1.6306e-03, -4.5367e-04, -7.7695e-04],\n",
      "          [-2.5775e-03, -2.1003e-03, -1.6060e-03, -6.3964e-04, -9.7170e-04],\n",
      "          [-2.6045e-03, -2.2403e-03, -1.7386e-03, -5.8544e-04, -9.7673e-04]]],\n",
      "\n",
      "\n",
      "        [[[ 5.0440e-05, -8.0331e-06, -2.9927e-05,  6.0142e-05,  6.3062e-05],\n",
      "          [ 5.8684e-05,  3.9585e-05,  2.1420e-05,  1.4723e-04,  9.9494e-05],\n",
      "          [-6.6269e-05,  2.3157e-05,  1.3552e-04,  2.9331e-04,  1.4184e-04],\n",
      "          [-1.5485e-07,  1.4927e-05,  1.4837e-04,  1.6617e-04, -9.2852e-06],\n",
      "          [-5.3181e-05,  9.0203e-05,  9.1314e-05, -8.0517e-05,  1.1296e-05]]]])\n"
     ]
    }
   ],
   "source": [
    "print(network.conv1.weight.grad)   #These gradients are used by the optimizer to update the respective weights"
   ]
  },
  {
   "cell_type": "code",
   "execution_count": 53,
   "metadata": {},
   "outputs": [
    {
     "name": "stdout",
     "output_type": "stream",
     "text": [
      "torch.Size([6, 1, 5, 5])\n"
     ]
    }
   ],
   "source": [
    "print(network.conv1.weight.grad.shape)"
   ]
  },
  {
   "cell_type": "code",
   "execution_count": 54,
   "metadata": {},
   "outputs": [],
   "source": [
    "#UPDATING THE WIEGHTS"
   ]
  },
  {
   "cell_type": "code",
   "execution_count": 55,
   "metadata": {},
   "outputs": [],
   "source": [
    "optimizer=optim.Adam(network.parameters(),lr=0.01)\n",
    "optimizer.step()    #updating the wieghts"
   ]
  },
  {
   "cell_type": "code",
   "execution_count": 56,
   "metadata": {},
   "outputs": [
    {
     "data": {
      "text/plain": [
       "2.2537717819213867"
      ]
     },
     "execution_count": 56,
     "metadata": {},
     "output_type": "execute_result"
    }
   ],
   "source": [
    "preds=network(images)\n",
    "loss=F.cross_entropy(preds,labels)\n",
    "loss.item()"
   ]
  },
  {
   "cell_type": "code",
   "execution_count": 57,
   "metadata": {},
   "outputs": [
    {
     "data": {
      "text/plain": [
       "15"
      ]
     },
     "execution_count": 57,
     "metadata": {},
     "output_type": "execute_result"
    }
   ],
   "source": [
    "num_get_correct(preds,labels)"
   ]
  },
  {
   "cell_type": "code",
   "execution_count": 58,
   "metadata": {},
   "outputs": [
    {
     "name": "stdout",
     "output_type": "stream",
     "text": [
      "Loss 1: 2.298872470855713\n",
      "Loss 2: 2.2735204696655273\n"
     ]
    }
   ],
   "source": [
    "#summary\n",
    "#training with single batch\n",
    "\n",
    "network=Network() #instance of network\n",
    "optimizer=optim.Adam(network.parameters(),lr=0.01)\n",
    "\n",
    "batch=next(iter(data_loader)) #get batch\n",
    "images,labels=batch\n",
    "\n",
    "preds=network(images) #pass batch\n",
    "\n",
    "loss=F.cross_entropy(preds,labels)  #calculate loss\n",
    "\n",
    "loss.backward() #calculate gradients\n",
    "\n",
    "optimizer.step()  #update wieghts\n",
    "\n",
    "print('Loss 1:',loss.item())\n",
    "preds=network(images)\n",
    "loss=F.cross_entropy(preds,labels)\n",
    "print('Loss 2:',loss.item())"
   ]
  },
  {
   "cell_type": "code",
   "execution_count": 59,
   "metadata": {},
   "outputs": [
    {
     "name": "stdout",
     "output_type": "stream",
     "text": [
      "Epoch: 0 Total Loss: 331.11587132513523 Total Correct: 47652\n"
     ]
    }
   ],
   "source": [
    "#TRAINING with All batches (Single epoch)\n",
    "\n",
    "total_loss=0\n",
    "total_correct=0\n",
    "\n",
    "#Since we have 60,000 samples in our training set, we will have 60,000/100=600 batches,and so iterations\n",
    "\n",
    "for batch in data_loader: #get batch #loop that will iterate over all of the batches.\n",
    "    images,labels=batch\n",
    "    preds=network(images)  #pass batch\n",
    "    \n",
    "    loss=F.cross_entropy(preds,labels) #calculate loss\n",
    "    \n",
    "    optimizer.zero_grad() #we know the gradients will be calculated and added to the grad attributes of our network's para. \n",
    "                          #For this reason, we need to zero out these gradients\n",
    "    \n",
    "    loss.backward() #calculate gradient\n",
    "    \n",
    "    optimizer.step() #update weights\n",
    "    \n",
    "    total_loss+=loss.item()\n",
    "    total_correct+=num_get_correct(preds,labels)\n",
    "\n",
    "print('Epoch:',0,'Total Loss:',total_loss,'Total Correct:',total_correct)\n",
    "    "
   ]
  },
  {
   "cell_type": "code",
   "execution_count": 60,
   "metadata": {},
   "outputs": [
    {
     "data": {
      "text/plain": [
       "79.42"
      ]
     },
     "execution_count": 60,
     "metadata": {},
     "output_type": "execute_result"
    }
   ],
   "source": [
    "total_correct/len(data_loader)"
   ]
  },
  {
   "cell_type": "code",
   "execution_count": 61,
   "metadata": {},
   "outputs": [
    {
     "name": "stdout",
     "output_type": "stream",
     "text": [
      "Epoch: 0 Total Loss: 333.01372584700584 Total Correct: 47332\n",
      "Epoch: 1 Total Loss: 232.3230895847082 Total Correct: 51317\n",
      "Epoch: 2 Total Loss: 211.62379072606564 Total Correct: 52066\n",
      "Epoch: 3 Total Loss: 204.88725551962852 Total Correct: 52338\n",
      "Epoch: 4 Total Loss: 196.39242650568485 Total Correct: 52697\n",
      "Epoch: 5 Total Loss: 191.5556429475546 Total Correct: 52776\n",
      "Epoch: 6 Total Loss: 186.66842544823885 Total Correct: 53099\n",
      "Epoch: 7 Total Loss: 185.09280262887478 Total Correct: 53137\n",
      "Epoch: 8 Total Loss: 182.65933810919523 Total Correct: 53191\n",
      "Epoch: 9 Total Loss: 181.32734824717045 Total Correct: 53229\n"
     ]
    }
   ],
   "source": [
    "#Training with multiple epoches\n",
    "\n",
    "network=Network()\n",
    "\n",
    "data_loader=torch.utils.data.DataLoader(train_set,batch_size=100)\n",
    "optimizer=optim.Adam(network.parameters(),lr=0.01)\n",
    "\n",
    "for epoch in range(10):\n",
    "    total_loss=0\n",
    "    total_correct=0\n",
    "    \n",
    "    for batch in data_loader: #get batch\n",
    "        images,labels=batch\n",
    "        \n",
    "        preds=network(images)                  #pass batch\n",
    "        loss=F.cross_entropy(preds,labels)     #calculate loss\n",
    "        optimizer.zero_grad()                          \n",
    "        loss.backward()                        #calculate gradient \n",
    "        optimizer.step()                       #update weights\n",
    "        \n",
    "        total_loss+=loss.item()\n",
    "        total_correct+=num_get_correct(preds,labels)\n",
    "        \n",
    "    print('Epoch:',epoch,'Total Loss:',total_loss,'Total Correct:',total_correct)"
   ]
  },
  {
   "cell_type": "code",
   "execution_count": 62,
   "metadata": {},
   "outputs": [
    {
     "data": {
      "text/plain": [
       "88.715"
      ]
     },
     "execution_count": 62,
     "metadata": {},
     "output_type": "execute_result"
    }
   ],
   "source": [
    "total_correct/len(data_loader)"
   ]
  },
  {
   "cell_type": "code",
   "execution_count": null,
   "metadata": {},
   "outputs": [],
   "source": []
  },
  {
   "cell_type": "code",
   "execution_count": 63,
   "metadata": {},
   "outputs": [
    {
     "data": {
      "text/plain": [
       "60000"
      ]
     },
     "execution_count": 63,
     "metadata": {},
     "output_type": "execute_result"
    }
   ],
   "source": [
    "len(train_set)"
   ]
  },
  {
   "cell_type": "code",
   "execution_count": 64,
   "metadata": {},
   "outputs": [
    {
     "data": {
      "text/plain": [
       "60000"
      ]
     },
     "execution_count": 64,
     "metadata": {},
     "output_type": "execute_result"
    }
   ],
   "source": [
    "len(train_set.targets)"
   ]
  },
  {
   "cell_type": "code",
   "execution_count": 65,
   "metadata": {},
   "outputs": [],
   "source": [
    "@torch.no_grad()  #we want get_all_preds function to omit gradient tracking. This is because gradient tracking uses\n",
    "                  #uses memory during getting predictions we dont need to track gradient.\n",
    "def get_all_preds(model,loader):\n",
    "    all_preds=torch.tensor([])\n",
    "    for batch in loader:\n",
    "        images,labels=batch\n",
    "        preds=model(images)\n",
    "        all_preds=torch.cat((all_preds,preds),dim=0)\n",
    "    return all_preds"
   ]
  },
  {
   "cell_type": "code",
   "execution_count": 66,
   "metadata": {},
   "outputs": [],
   "source": [
    "with torch.no_grad():\n",
    "    prediction_tensor=torch.utils.data.DataLoader(train_set,batch_size=10000)\n",
    "    train_preds=get_all_preds(network,prediction_tensor)"
   ]
  },
  {
   "cell_type": "code",
   "execution_count": 67,
   "metadata": {},
   "outputs": [
    {
     "name": "stdout",
     "output_type": "stream",
     "text": [
      "Total Correct: 53447\n",
      "Accuracy: 0.8907833333333334\n"
     ]
    }
   ],
   "source": [
    "preds_correct=num_get_correct(train_preds,train_set.targets)\n",
    "\n",
    "print('Total Correct:',preds_correct)\n",
    "print('Accuracy:',preds_correct/len(train_set))"
   ]
  },
  {
   "cell_type": "code",
   "execution_count": 68,
   "metadata": {},
   "outputs": [
    {
     "data": {
      "text/plain": [
       "tensor([9, 0, 0,  ..., 3, 0, 5])"
      ]
     },
     "execution_count": 68,
     "metadata": {},
     "output_type": "execute_result"
    }
   ],
   "source": [
    "train_set.targets"
   ]
  },
  {
   "cell_type": "code",
   "execution_count": 69,
   "metadata": {},
   "outputs": [
    {
     "data": {
      "text/plain": [
       "tensor([9, 0, 0,  ..., 3, 0, 5])"
      ]
     },
     "execution_count": 69,
     "metadata": {},
     "output_type": "execute_result"
    }
   ],
   "source": [
    "train_preds.argmax(dim=1)"
   ]
  },
  {
   "cell_type": "code",
   "execution_count": 70,
   "metadata": {},
   "outputs": [],
   "source": [
    "stacked=torch.stack([train_set.targets,train_preds.argmax(dim=1)],dim=1)"
   ]
  },
  {
   "cell_type": "code",
   "execution_count": 71,
   "metadata": {},
   "outputs": [
    {
     "data": {
      "text/plain": [
       "torch.Size([60000, 2])"
      ]
     },
     "execution_count": 71,
     "metadata": {},
     "output_type": "execute_result"
    }
   ],
   "source": [
    "stacked.shape"
   ]
  },
  {
   "cell_type": "code",
   "execution_count": 72,
   "metadata": {},
   "outputs": [
    {
     "data": {
      "text/plain": [
       "tensor([[9, 9],\n",
       "        [0, 0],\n",
       "        [0, 0],\n",
       "        ...,\n",
       "        [3, 3],\n",
       "        [0, 0],\n",
       "        [5, 5]])"
      ]
     },
     "execution_count": 72,
     "metadata": {},
     "output_type": "execute_result"
    }
   ],
   "source": [
    "stacked"
   ]
  },
  {
   "cell_type": "code",
   "execution_count": 73,
   "metadata": {},
   "outputs": [
    {
     "data": {
      "text/plain": [
       "tensor([[0, 0, 0, 0, 0, 0, 0, 0, 0, 0],\n",
       "        [0, 0, 0, 0, 0, 0, 0, 0, 0, 0],\n",
       "        [0, 0, 0, 0, 0, 0, 0, 0, 0, 0],\n",
       "        [0, 0, 0, 0, 0, 0, 0, 0, 0, 0],\n",
       "        [0, 0, 0, 0, 0, 0, 0, 0, 0, 0],\n",
       "        [0, 0, 0, 0, 0, 0, 0, 0, 0, 0],\n",
       "        [0, 0, 0, 0, 0, 0, 0, 0, 0, 0],\n",
       "        [0, 0, 0, 0, 0, 0, 0, 0, 0, 0],\n",
       "        [0, 0, 0, 0, 0, 0, 0, 0, 0, 0],\n",
       "        [0, 0, 0, 0, 0, 0, 0, 0, 0, 0]])"
      ]
     },
     "execution_count": 73,
     "metadata": {},
     "output_type": "execute_result"
    }
   ],
   "source": [
    "confusion_mat=torch.zeros(10,10,dtype=torch.int64)\n",
    "confusion_mat"
   ]
  },
  {
   "cell_type": "code",
   "execution_count": 74,
   "metadata": {},
   "outputs": [
    {
     "data": {
      "text/plain": [
       "[9, 9]"
      ]
     },
     "execution_count": 74,
     "metadata": {},
     "output_type": "execute_result"
    }
   ],
   "source": [
    "stacked[0].tolist()"
   ]
  },
  {
   "cell_type": "code",
   "execution_count": 75,
   "metadata": {},
   "outputs": [],
   "source": [
    "for p in stacked:\n",
    "    true_label,predicted_label=p.tolist()\n",
    "    confusion_mat[true_label,predicted_label]=confusion_mat[true_label,predicted_label]+1    "
   ]
  },
  {
   "cell_type": "code",
   "execution_count": 76,
   "metadata": {},
   "outputs": [
    {
     "data": {
      "text/plain": [
       "tensor([[5516,    9,   40,  130,   15,    8,  247,    1,   31,    3],\n",
       "        [   5, 5909,    3,   72,    3,    3,    0,    1,    2,    2],\n",
       "        [  74,    3, 4824,   66,  649,    0,  366,    1,   16,    1],\n",
       "        [ 164,   26,   13, 5496,  204,    0,   83,    2,    8,    4],\n",
       "        [   7,    1,  378,  192, 5172,    1,  237,    1,   10,    1],\n",
       "        [   0,    0,    0,    0,    0, 5710,    0,  131,    8,  151],\n",
       "        [1333,    9,  486,  149,  587,    0, 3384,    0,   45,    7],\n",
       "        [   0,    0,    0,    0,    0,   36,    0, 5734,    3,  227],\n",
       "        [  22,    2,   16,   14,   19,   11,   40,    8, 5838,   30],\n",
       "        [   0,    0,    0,    0,    0,    2,    0,  133,    1, 5864]])"
      ]
     },
     "execution_count": 76,
     "metadata": {},
     "output_type": "execute_result"
    }
   ],
   "source": [
    "confusion_mat"
   ]
  },
  {
   "cell_type": "code",
   "execution_count": 77,
   "metadata": {},
   "outputs": [],
   "source": [
    "import matplotlib.pyplot as plt\n",
    "from sklearn.metrics import confusion_matrix\n",
    "import seaborn as sns"
   ]
  },
  {
   "cell_type": "code",
   "execution_count": 78,
   "metadata": {},
   "outputs": [
    {
     "data": {
      "text/plain": [
       "array([[5516,    9,   40,  130,   15,    8,  247,    1,   31,    3],\n",
       "       [   5, 5909,    3,   72,    3,    3,    0,    1,    2,    2],\n",
       "       [  74,    3, 4824,   66,  649,    0,  366,    1,   16,    1],\n",
       "       [ 164,   26,   13, 5496,  204,    0,   83,    2,    8,    4],\n",
       "       [   7,    1,  378,  192, 5172,    1,  237,    1,   10,    1],\n",
       "       [   0,    0,    0,    0,    0, 5710,    0,  131,    8,  151],\n",
       "       [1333,    9,  486,  149,  587,    0, 3384,    0,   45,    7],\n",
       "       [   0,    0,    0,    0,    0,   36,    0, 5734,    3,  227],\n",
       "       [  22,    2,   16,   14,   19,   11,   40,    8, 5838,   30],\n",
       "       [   0,    0,    0,    0,    0,    2,    0,  133,    1, 5864]],\n",
       "      dtype=int64)"
      ]
     },
     "execution_count": 78,
     "metadata": {},
     "output_type": "execute_result"
    }
   ],
   "source": [
    "CM=confusion_matrix(train_set.targets,train_preds.argmax(dim=1))\n",
    "CM"
   ]
  },
  {
   "cell_type": "code",
   "execution_count": 79,
   "metadata": {},
   "outputs": [
    {
     "data": {
      "image/png": "[encoded data removed]",
      "text/plain": [
       "<Figure size 432x288 with 2 Axes>"
      ]
     },
     "metadata": {},
     "output_type": "display_data"
    }
   ],
   "source": [
    "names = (\n",
    "    'T-shirt/top'\n",
    "    ,'Trouser'\n",
    "    ,'Pullover'\n",
    "    ,'Dress'\n",
    "    ,'Coat'\n",
    "    ,'Sandal'\n",
    "    ,'Shirt'\n",
    "    ,'Sneaker'\n",
    "    ,'Bag'\n",
    "    ,'Ankle boot'\n",
    ")\n",
    "sns.heatmap(CM,annot=True)\n",
    "plt.rcParams['figure.figsize']=(10,10)"
   ]
  },
  {
   "cell_type": "code",
   "execution_count": 80,
   "metadata": {},
   "outputs": [],
   "source": [
    "import itertools\n",
    "import numpy as np\n",
    "import matplotlib.pyplot as plt\n",
    "\n",
    "def plot_confusion_matrix(cm, classes, normalize=False, title='Confusion matrix', cmap=plt.cm.Blues):\n",
    "    if normalize:\n",
    "        cm = cm.astype('float') / cm.sum(axis=1)[:, np.newaxis]\n",
    "        print(\"Normalized confusion matrix\")\n",
    "    else:\n",
    "        print('Confusion matrix, without normalization')\n",
    "\n",
    "    print(cm)\n",
    "    plt.imshow(cm, interpolation='nearest', cmap=cmap)\n",
    "    plt.title(title)\n",
    "    plt.colorbar()\n",
    "    tick_marks = np.arange(len(classes))\n",
    "    plt.xticks(tick_marks, classes, rotation=45)\n",
    "    plt.yticks(tick_marks, classes)\n",
    "\n",
    "    fmt = '.2f' if normalize else 'd'\n",
    "    thresh = cm.max() / 2.\n",
    "    for i, j in itertools.product(range(cm.shape[0]), range(cm.shape[1])):\n",
    "        plt.text(j, i, format(cm[i, j], fmt), horizontalalignment=\"center\", color=\"white\" if cm[i, j] > thresh else \"black\")\n",
    "\n",
    "    plt.tight_layout()\n",
    "    plt.ylabel('True label')\n",
    "    plt.xlabel('Predicted label')"
   ]
  },
  {
   "cell_type": "code",
   "execution_count": 81,
   "metadata": {},
   "outputs": [
    {
     "name": "stdout",
     "output_type": "stream",
     "text": [
      "Confusion matrix, without normalization\n",
      "[[5516    9   40  130   15    8  247    1   31    3]\n",
      " [   5 5909    3   72    3    3    0    1    2    2]\n",
      " [  74    3 4824   66  649    0  366    1   16    1]\n",
      " [ 164   26   13 5496  204    0   83    2    8    4]\n",
      " [   7    1  378  192 5172    1  237    1   10    1]\n",
      " [   0    0    0    0    0 5710    0  131    8  151]\n",
      " [1333    9  486  149  587    0 3384    0   45    7]\n",
      " [   0    0    0    0    0   36    0 5734    3  227]\n",
      " [  22    2   16   14   19   11   40    8 5838   30]\n",
      " [   0    0    0    0    0    2    0  133    1 5864]]\n"
     ]
    },
    {
     "data": {
      "image/png": "[encoded data removed]",
      "text/plain": [
       "<Figure size 720x720 with 2 Axes>"
      ]
     },
     "metadata": {},
     "output_type": "display_data"
    }
   ],
   "source": [
    "names = (\n",
    "    'T-shirt/top'\n",
    "    ,'Trouser'\n",
    "    ,'Pullover'\n",
    "    ,'Dress'\n",
    "    ,'Coat'\n",
    "    ,'Sandal'\n",
    "    ,'Shirt'\n",
    "    ,'Sneaker'\n",
    "    ,'Bag'\n",
    "    ,'Ankle boot'\n",
    ")\n",
    "plt.figure(figsize=(10,10))\n",
    "plot_confusion_matrix(CM, names)"
   ]
  },
  {
   "cell_type": "code",
   "execution_count": null,
   "metadata": {},
   "outputs": [],
   "source": [
    "#Tensorboard_visualization"
   ]
  },
  {
   "cell_type": "code",
   "execution_count": 83,
   "metadata": {},
   "outputs": [],
   "source": [
    "import torch\n",
    "from torch.utils.tensorboard import SummaryWriter\n",
    "from itertools import product\n",
    "\n",
    "def train(lr, batch_size, shuffle, num_epochs=5):\n",
    "    # data loader\n",
    "    train_loader = torch.utils.data.DataLoader(train_set, batch_size=batch_size, shuffle=shuffle)\n",
    "\n",
    "    # compile network\n",
    "    network = Network()\n",
    "    optimizer = optim.Adam(network.parameters(), lr=lr)\n",
    "\n",
    "    # Initialize tensorboard\n",
    "    tb = SummaryWriter(comment=f' lr={lr} batch_size={batch_size} shuffle={shuffle}') # this is appended\n",
    "    \n",
    "    # Training\n",
    "    print('\\nlr=', lr, 'batch_size=', batch_size, 'shuffle=', shuffle)\n",
    "    for epoch in range(num_epochs): \n",
    "        total_loss = 0\n",
    "        total_correct = 0\n",
    "\n",
    "        for batch in train_loader:\n",
    "            images, labels = batch \n",
    "            preds = network(images)\n",
    "\n",
    "            loss = F.cross_entropy(preds, labels) \n",
    "            \n",
    "            optimizer.zero_grad()                 \n",
    "            loss.backward()         \n",
    "            optimizer.step()        \n",
    "\n",
    "            total_loss += loss.item()*batch_size             # get absolute loss \n",
    "            total_correct += num_get_correct(preds, labels)\n",
    "\n",
    "        tb.add_scalar('Loss', total_loss, epoch)\n",
    "        tb.add_scalar('Number Correct', total_correct, epoch)\n",
    "        tb.add_scalar('Accuracy', total_correct / len(train_set), epoch)\n",
    "\n",
    "#         tb.add_histogram('conv1.bias', network.conv1.bias, epoch)\n",
    "#         tb.add_histogram('conv1.weight', network.conv1.weight, epoch)\n",
    "#         tb.add_histogram('conv1.weight.grad', network.conv1.weight.grad, epoch)\n",
    "\n",
    "        print(\"epoch\", epoch, \"\\t train_acc\", total_correct / len(train_set), \"\\t loss:\", total_loss)\n",
    "\n",
    "    tb.close()"
   ]
  },
  {
   "cell_type": "code",
   "execution_count": 84,
   "metadata": {},
   "outputs": [
    {
     "name": "stdout",
     "output_type": "stream",
     "text": [
      "\n",
      "lr= 0.1 batch_size= 10 shuffle= True\n",
      "epoch 0 \t train_acc 0.0979 \t loss: 139567.67048835754\n",
      "epoch 1 \t train_acc 0.0997 \t loss: 139598.02062511444\n",
      "epoch 2 \t train_acc 0.10198333333333333 \t loss: 139561.49700045586\n",
      "epoch 3 \t train_acc 0.1002 \t loss: 139578.06378245354\n",
      "epoch 4 \t train_acc 0.1015 \t loss: 139500.8800649643\n",
      "epoch 5 \t train_acc 0.10063333333333334 \t loss: 139574.63927268982\n",
      "epoch 6 \t train_acc 0.0997 \t loss: 139489.852540493\n",
      "epoch 7 \t train_acc 0.09778333333333333 \t loss: 139591.0008573532\n",
      "epoch 8 \t train_acc 0.0995 \t loss: 139546.17162823677\n",
      "epoch 9 \t train_acc 0.09643333333333333 \t loss: 139596.11682891846\n",
      "\n",
      "lr= 0.1 batch_size= 10 shuffle= False\n",
      "epoch 0 \t train_acc 0.10231666666666667 \t loss: 140403.5357093811\n",
      "epoch 1 \t train_acc 0.10206666666666667 \t loss: 139448.97874355316\n",
      "epoch 2 \t train_acc 0.10208333333333333 \t loss: 139448.97834300995\n",
      "epoch 3 \t train_acc 0.10208333333333333 \t loss: 139448.97859811783\n",
      "epoch 4 \t train_acc 0.10208333333333333 \t loss: 139448.9784169197\n",
      "epoch 5 \t train_acc 0.10208333333333333 \t loss: 139448.9783835411\n",
      "epoch 6 \t train_acc 0.10208333333333333 \t loss: 139448.97849798203\n",
      "epoch 7 \t train_acc 0.10208333333333333 \t loss: 139448.9785528183\n",
      "epoch 8 \t train_acc 0.10208333333333333 \t loss: 139448.97839784622\n",
      "epoch 9 \t train_acc 0.10208333333333333 \t loss: 139448.97844076157\n",
      "\n",
      "lr= 0.1 batch_size= 100 shuffle= True\n",
      "epoch 0 \t train_acc 0.09966666666666667 \t loss: 142815.13435840607\n",
      "epoch 1 \t train_acc 0.09928333333333333 \t loss: 138553.06663513184\n",
      "epoch 2 \t train_acc 0.10036666666666667 \t loss: 138575.86040496826\n",
      "epoch 3 \t train_acc 0.09971666666666666 \t loss: 138581.58900737762\n",
      "epoch 4 \t train_acc 0.1003 \t loss: 138626.1572599411\n",
      "epoch 5 \t train_acc 0.10063333333333334 \t loss: 138576.14879608154\n",
      "epoch 6 \t train_acc 0.10208333333333333 \t loss: 138551.5903711319\n",
      "epoch 7 \t train_acc 0.0994 \t loss: 138620.23935317993\n",
      "epoch 8 \t train_acc 0.10106666666666667 \t loss: 138542.1541929245\n",
      "epoch 9 \t train_acc 0.10098333333333333 \t loss: 138601.82588100433\n",
      "\n",
      "lr= 0.1 batch_size= 100 shuffle= False\n",
      "epoch 0 \t train_acc 0.09963333333333334 \t loss: 153446.50406837463\n",
      "epoch 1 \t train_acc 0.09918333333333333 \t loss: 138613.95046710968\n",
      "epoch 2 \t train_acc 0.09941666666666667 \t loss: 138621.01323604584\n",
      "epoch 3 \t train_acc 0.09973333333333333 \t loss: 138623.93004894257\n",
      "epoch 4 \t train_acc 0.09963333333333334 \t loss: 138625.3019809723\n",
      "epoch 5 \t train_acc 0.09963333333333334 \t loss: 138625.98185539246\n",
      "epoch 6 \t train_acc 0.09963333333333334 \t loss: 138626.33187770844\n",
      "epoch 7 \t train_acc 0.09963333333333334 \t loss: 138626.51269435883\n",
      "epoch 8 \t train_acc 0.09963333333333334 \t loss: 138626.606464386\n",
      "epoch 9 \t train_acc 0.09963333333333334 \t loss: 138626.65417194366\n",
      "\n",
      "lr= 0.1 batch_size= 1000 shuffle= True\n",
      "epoch 0 \t train_acc 0.10056666666666667 \t loss: 300306.66875839233\n",
      "epoch 1 \t train_acc 0.09888333333333334 \t loss: 138300.04954338074\n",
      "epoch 2 \t train_acc 0.10068333333333333 \t loss: 138284.95144844055\n",
      "epoch 3 \t train_acc 0.10078333333333334 \t loss: 138255.73682785034\n",
      "epoch 4 \t train_acc 0.10081666666666667 \t loss: 138264.42861557007\n",
      "epoch 5 \t train_acc 0.1008 \t loss: 138234.50636863708\n",
      "epoch 6 \t train_acc 0.09788333333333334 \t loss: 138237.70785331726\n",
      "epoch 7 \t train_acc 0.10071666666666666 \t loss: 138280.68089485168\n",
      "epoch 8 \t train_acc 0.10031666666666667 \t loss: 138265.3260231018\n",
      "epoch 9 \t train_acc 0.10056666666666667 \t loss: 138266.59321784973\n",
      "\n",
      "lr= 0.1 batch_size= 1000 shuffle= False\n",
      "epoch 0 \t train_acc 0.10071666666666666 \t loss: 193828.71747016907\n",
      "epoch 1 \t train_acc 0.09898333333333334 \t loss: 138320.75715065002\n",
      "epoch 2 \t train_acc 0.10025 \t loss: 138267.7447795868\n",
      "epoch 3 \t train_acc 0.09933333333333333 \t loss: 138240.89312553406\n",
      "epoch 4 \t train_acc 0.09871666666666666 \t loss: 138251.15513801575\n",
      "epoch 5 \t train_acc 0.09838333333333334 \t loss: 138252.48765945435\n",
      "epoch 6 \t train_acc 0.09885 \t loss: 138255.8343410492\n",
      "epoch 7 \t train_acc 0.09885 \t loss: 138258.4309577942\n",
      "epoch 8 \t train_acc 0.0988 \t loss: 138260.54668426514\n",
      "epoch 9 \t train_acc 0.0992 \t loss: 138262.27474212646\n",
      "\n",
      "lr= 0.1 batch_size= 10000 shuffle= True\n",
      "epoch 0 \t train_acc 0.09973333333333333 \t loss: 567933.3543777466\n",
      "epoch 1 \t train_acc 0.10111666666666666 \t loss: 139000.96893310547\n",
      "epoch 2 \t train_acc 0.0996 \t loss: 138347.3253250122\n",
      "epoch 3 \t train_acc 0.09896666666666666 \t loss: 138245.80192565918\n",
      "epoch 4 \t train_acc 0.0987 \t loss: 138187.68501281738\n",
      "epoch 5 \t train_acc 0.10006666666666666 \t loss: 138185.6918334961\n",
      "epoch 6 \t train_acc 0.1 \t loss: 138168.87855529785\n",
      "epoch 7 \t train_acc 0.10148333333333333 \t loss: 138163.85984420776\n",
      "epoch 8 \t train_acc 0.09998333333333333 \t loss: 138164.1697883606\n",
      "epoch 9 \t train_acc 0.09971666666666666 \t loss: 138185.33420562744\n",
      "\n",
      "lr= 0.1 batch_size= 10000 shuffle= False\n",
      "epoch 0 \t train_acc 0.09741666666666667 \t loss: 509791.0499572754\n",
      "epoch 1 \t train_acc 0.10036666666666667 \t loss: 138708.27913284302\n",
      "epoch 2 \t train_acc 0.10015 \t loss: 138636.54136657715\n",
      "epoch 3 \t train_acc 0.10061666666666666 \t loss: 138226.35412216187\n",
      "epoch 4 \t train_acc 0.09931666666666666 \t loss: 138220.4008102417\n",
      "epoch 5 \t train_acc 0.09848333333333334 \t loss: 138228.53803634644\n",
      "epoch 6 \t train_acc 0.09943333333333333 \t loss: 138177.0896911621\n",
      "epoch 7 \t train_acc 0.10015 \t loss: 138169.70825195312\n",
      "epoch 8 \t train_acc 0.09736666666666667 \t loss: 138185.14823913574\n",
      "epoch 9 \t train_acc 0.09791666666666667 \t loss: 138172.02806472778\n",
      "\n",
      "lr= 0.01 batch_size= 10 shuffle= True\n",
      "epoch 0 \t train_acc 0.7626666666666667 \t loss: 38273.533892259\n",
      "epoch 1 \t train_acc 0.8047333333333333 \t loss: 32821.92922525108\n",
      "epoch 2 \t train_acc 0.8093666666666667 \t loss: 31482.96477341093\n",
      "epoch 3 \t train_acc 0.8117833333333333 \t loss: 31246.49064769037\n",
      "epoch 4 \t train_acc 0.8124666666666667 \t loss: 31497.773683934938\n",
      "epoch 5 \t train_acc 0.8148666666666666 \t loss: 30943.8551868801\n",
      "epoch 6 \t train_acc 0.8134666666666667 \t loss: 31171.185089792125\n",
      "epoch 7 \t train_acc 0.8119833333333333 \t loss: 31857.093084342778\n",
      "epoch 8 \t train_acc 0.81315 \t loss: 31926.08184043318\n",
      "epoch 9 \t train_acc 0.8168166666666666 \t loss: 30726.311410623603\n",
      "\n",
      "lr= 0.01 batch_size= 10 shuffle= False\n",
      "epoch 0 \t train_acc 0.783 \t loss: 36176.94215793628\n",
      "epoch 1 \t train_acc 0.8143 \t loss: 32023.98714543364\n",
      "epoch 2 \t train_acc 0.80995 \t loss: 32238.29241540505\n",
      "epoch 3 \t train_acc 0.8175666666666667 \t loss: 30947.103292169922\n",
      "epoch 4 \t train_acc 0.8158 \t loss: 31160.81609790679\n",
      "epoch 5 \t train_acc 0.8199166666666666 \t loss: 31148.977105001686\n",
      "epoch 6 \t train_acc 0.8249 \t loss: 30132.12206818309\n",
      "epoch 7 \t train_acc 0.82225 \t loss: 30638.962367836793\n",
      "epoch 8 \t train_acc 0.81135 \t loss: 32727.136229040334\n",
      "epoch 9 \t train_acc 0.8168833333333333 \t loss: 32600.77731615398\n",
      "\n",
      "lr= 0.01 batch_size= 100 shuffle= True\n",
      "epoch 0 \t train_acc 0.7887666666666666 \t loss: 33341.0254329443\n",
      "epoch 1 \t train_acc 0.8609666666666667 \t loss: 22533.33439230919\n",
      "epoch 2 \t train_acc 0.8696 \t loss: 20940.61057716608\n",
      "epoch 3 \t train_acc 0.8744333333333333 \t loss: 20332.601734995842\n",
      "epoch 4 \t train_acc 0.8785333333333334 \t loss: 19424.515382945538\n",
      "epoch 5 \t train_acc 0.8845 \t loss: 18691.752538830042\n",
      "epoch 6 \t train_acc 0.88515 \t loss: 18606.84428140521\n",
      "epoch 7 \t train_acc 0.8897666666666667 \t loss: 18132.240573316813\n",
      "epoch 8 \t train_acc 0.8900166666666667 \t loss: 18106.095657497644\n",
      "epoch 9 \t train_acc 0.8914166666666666 \t loss: 17683.074980974197\n",
      "\n",
      "lr= 0.01 batch_size= 100 shuffle= False\n",
      "epoch 0 \t train_acc 0.7992333333333334 \t loss: 32109.28214341402\n",
      "epoch 1 \t train_acc 0.85705 \t loss: 22915.475484728813\n",
      "epoch 2 \t train_acc 0.8698833333333333 \t loss: 20960.615557432175\n",
      "epoch 3 \t train_acc 0.8766666666666667 \t loss: 20036.309358477592\n",
      "epoch 4 \t train_acc 0.8815166666666666 \t loss: 19170.633041858673\n",
      "epoch 5 \t train_acc 0.8855666666666666 \t loss: 18737.46793717146\n",
      "epoch 6 \t train_acc 0.8856 \t loss: 18547.434332966805\n",
      "epoch 7 \t train_acc 0.8869333333333334 \t loss: 18261.20267137885\n",
      "epoch 8 \t train_acc 0.8902 \t loss: 17698.982050269842\n",
      "epoch 9 \t train_acc 0.8910166666666667 \t loss: 17733.34232494235\n",
      "\n",
      "lr= 0.01 batch_size= 1000 shuffle= True\n",
      "epoch 0 \t train_acc 0.6257166666666667 \t loss: 58753.02344560623\n",
      "epoch 1 \t train_acc 0.7847333333333333 \t loss: 33714.36634659767\n",
      "epoch 2 \t train_acc 0.83125 \t loss: 27519.88708972931\n",
      "epoch 3 \t train_acc 0.8468833333333333 \t loss: 24894.618451595306\n",
      "epoch 4 \t train_acc 0.85895 \t loss: 22758.114486932755\n",
      "epoch 5 \t train_acc 0.8673666666666666 \t loss: 21491.025775671005\n",
      "epoch 6 \t train_acc 0.8738833333333333 \t loss: 20337.76366710663\n",
      "epoch 7 \t train_acc 0.87845 \t loss: 19556.534111499786\n",
      "epoch 8 \t train_acc 0.8837333333333334 \t loss: 18762.975215911865\n",
      "epoch 9 \t train_acc 0.88705 \t loss: 18266.116246581078\n",
      "\n",
      "lr= 0.01 batch_size= 1000 shuffle= False\n",
      "epoch 0 \t train_acc 0.59035 \t loss: 66414.6876335144\n",
      "epoch 1 \t train_acc 0.77185 \t loss: 34369.362354278564\n",
      "epoch 2 \t train_acc 0.8202666666666667 \t loss: 28638.358801603317\n",
      "epoch 3 \t train_acc 0.8461333333333333 \t loss: 25172.700822353363\n",
      "epoch 4 \t train_acc 0.8592333333333333 \t loss: 23120.556354522705\n",
      "epoch 5 \t train_acc 0.8683833333333333 \t loss: 21492.633044719696\n",
      "epoch 6 \t train_acc 0.8764666666666666 \t loss: 20154.53800559044\n",
      "epoch 7 \t train_acc 0.883 \t loss: 19135.991603136063\n",
      "epoch 8 \t train_acc 0.88445 \t loss: 18643.566265702248\n",
      "epoch 9 \t train_acc 0.8886333333333334 \t loss: 17994.381949305534\n",
      "\n",
      "lr= 0.01 batch_size= 10000 shuffle= True\n",
      "epoch 0 \t train_acc 0.24796666666666667 \t loss: 131355.83996772766\n",
      "epoch 1 \t train_acc 0.42738333333333334 \t loss: 92732.51533508301\n",
      "epoch 2 \t train_acc 0.52775 \t loss: 70822.82662391663\n",
      "epoch 3 \t train_acc 0.6352333333333333 \t loss: 60513.07201385498\n",
      "epoch 4 \t train_acc 0.6808666666666666 \t loss: 51594.98453140259\n",
      "epoch 5 \t train_acc 0.7066 \t loss: 46202.49330997467\n",
      "epoch 6 \t train_acc 0.7303166666666666 \t loss: 42643.24963092804\n",
      "epoch 7 \t train_acc 0.7478 \t loss: 39590.707421302795\n",
      "epoch 8 \t train_acc 0.7602 \t loss: 37240.21315574646\n",
      "epoch 9 \t train_acc 0.7695 \t loss: 35342.47577190399\n",
      "\n",
      "lr= 0.01 batch_size= 10000 shuffle= False\n",
      "epoch 0 \t train_acc 0.21795 \t loss: 127590.00897407532\n",
      "epoch 1 \t train_acc 0.5421 \t loss: 78378.9050579071\n",
      "epoch 2 \t train_acc 0.6281166666666667 \t loss: 57173.36416244507\n",
      "epoch 3 \t train_acc 0.6781 \t loss: 49588.64212036133\n",
      "epoch 4 \t train_acc 0.7187666666666667 \t loss: 44495.136737823486\n",
      "epoch 5 \t train_acc 0.73435 \t loss: 40779.677629470825\n",
      "epoch 6 \t train_acc 0.7508 \t loss: 37808.842062950134\n",
      "epoch 7 \t train_acc 0.7621666666666667 \t loss: 35574.53215122223\n",
      "epoch 8 \t train_acc 0.7778166666666667 \t loss: 33828.81224155426\n",
      "epoch 9 \t train_acc 0.78805 \t loss: 32345.163226127625\n",
      "\n",
      "lr= 0.001 batch_size= 10 shuffle= True\n",
      "epoch 0 \t train_acc 0.7736333333333333 \t loss: 36034.18444724288\n",
      "epoch 1 \t train_acc 0.8468333333333333 \t loss: 25006.153119858354\n",
      "epoch 2 \t train_acc 0.8645166666666667 \t loss: 21830.09148902027\n",
      "epoch 3 \t train_acc 0.87335 \t loss: 20339.198852165136\n",
      "epoch 4 \t train_acc 0.8814666666666666 \t loss: 19106.53996227309\n",
      "epoch 5 \t train_acc 0.8860666666666667 \t loss: 18215.133628425538\n",
      "epoch 6 \t train_acc 0.8905 \t loss: 17488.982317619375\n",
      "epoch 7 \t train_acc 0.8937 \t loss: 16877.50817538472\n",
      "epoch 8 \t train_acc 0.8972666666666667 \t loss: 16305.42392887175\n",
      "epoch 9 \t train_acc 0.9011666666666667 \t loss: 15785.281650185643\n",
      "\n",
      "lr= 0.001 batch_size= 10 shuffle= False\n",
      "epoch 0 \t train_acc 0.79525 \t loss: 32572.766746226698\n",
      "epoch 1 \t train_acc 0.8629333333333333 \t loss: 22128.55955672101\n",
      "epoch 2 \t train_acc 0.8778166666666667 \t loss: 19470.053327186615\n",
      "epoch 3 \t train_acc 0.8859333333333334 \t loss: 18077.97129593906\n",
      "epoch 4 \t train_acc 0.89295 \t loss: 16956.066339378012\n",
      "epoch 5 \t train_acc 0.8992 \t loss: 16145.17745447316\n",
      "epoch 6 \t train_acc 0.9040666666666667 \t loss: 15302.909477557696\n",
      "epoch 7 \t train_acc 0.907 \t loss: 14733.947928622365\n",
      "epoch 8 \t train_acc 0.90995 \t loss: 14185.61598561253\n",
      "epoch 9 \t train_acc 0.9122166666666667 \t loss: 13679.495438614176\n",
      "\n",
      "lr= 0.001 batch_size= 100 shuffle= True\n",
      "epoch 0 \t train_acc 0.6938666666666666 \t loss: 48287.99884915352\n",
      "epoch 1 \t train_acc 0.8045166666666667 \t loss: 31279.975752532482\n",
      "epoch 2 \t train_acc 0.8397 \t loss: 26556.181621551514\n",
      "epoch 3 \t train_acc 0.85565 \t loss: 23743.984977900982\n",
      "epoch 4 \t train_acc 0.8679166666666667 \t loss: 21860.573375225067\n",
      "epoch 5 \t train_acc 0.8753333333333333 \t loss: 20519.569163024426\n",
      "epoch 6 \t train_acc 0.8792333333333333 \t loss: 19733.890150487423\n",
      "epoch 7 \t train_acc 0.8861 \t loss: 18627.57134065032\n",
      "epoch 8 \t train_acc 0.8905666666666666 \t loss: 17822.218753397465\n",
      "epoch 9 \t train_acc 0.8936333333333333 \t loss: 17145.12003660202\n",
      "\n",
      "lr= 0.001 batch_size= 100 shuffle= False\n",
      "epoch 0 \t train_acc 0.7154333333333334 \t loss: 45118.13441812992\n",
      "epoch 1 \t train_acc 0.8130666666666667 \t loss: 30340.76206088066\n",
      "epoch 2 \t train_acc 0.8395666666666667 \t loss: 26210.97693145275\n",
      "epoch 3 \t train_acc 0.8570666666666666 \t loss: 23459.806050360203\n",
      "epoch 4 \t train_acc 0.86845 \t loss: 21610.53664535284\n",
      "epoch 5 \t train_acc 0.8753666666666666 \t loss: 20287.00549006462\n",
      "epoch 6 \t train_acc 0.8811666666666667 \t loss: 19270.900581777096\n",
      "epoch 7 \t train_acc 0.8851666666666667 \t loss: 18458.050048351288\n",
      "epoch 8 \t train_acc 0.89005 \t loss: 17732.780122756958\n",
      "epoch 9 \t train_acc 0.8938833333333334 \t loss: 17133.29793959856\n",
      "\n",
      "lr= 0.001 batch_size= 1000 shuffle= True\n",
      "epoch 0 \t train_acc 0.42346666666666666 \t loss: 98378.1310915947\n",
      "epoch 1 \t train_acc 0.71705 \t loss: 44770.01190185547\n",
      "epoch 2 \t train_acc 0.7524 \t loss: 38238.28327655792\n",
      "epoch 3 \t train_acc 0.7751166666666667 \t loss: 34908.54877233505\n",
      "epoch 4 \t train_acc 0.7930166666666667 \t loss: 32368.16892027855\n",
      "epoch 5 \t train_acc 0.80585 \t loss: 30681.51703476906\n",
      "epoch 6 \t train_acc 0.81975 \t loss: 29127.024233341217\n",
      "epoch 7 \t train_acc 0.8337 \t loss: 27596.87379002571\n",
      "epoch 8 \t train_acc 0.8411166666666666 \t loss: 26504.69198822975\n",
      "epoch 9 \t train_acc 0.8483833333333334 \t loss: 25521.20816707611\n",
      "\n",
      "lr= 0.001 batch_size= 1000 shuffle= False\n",
      "epoch 0 \t train_acc 0.49406666666666665 \t loss: 88953.78130674362\n",
      "epoch 1 \t train_acc 0.6882 \t loss: 48801.021337509155\n",
      "epoch 2 \t train_acc 0.7234166666666667 \t loss: 43033.5236787796\n",
      "epoch 3 \t train_acc 0.7498333333333334 \t loss: 38908.83719921112\n",
      "epoch 4 \t train_acc 0.7689666666666667 \t loss: 36109.523832798004\n",
      "epoch 5 \t train_acc 0.7840333333333334 \t loss: 34092.5295650959\n",
      "epoch 6 \t train_acc 0.7967666666666666 \t loss: 32475.073367357254\n",
      "epoch 7 \t train_acc 0.8078666666666666 \t loss: 31074.835419654846\n",
      "epoch 8 \t train_acc 0.8178833333333333 \t loss: 29862.867176532745\n",
      "epoch 9 \t train_acc 0.8266166666666667 \t loss: 28791.74429178238\n",
      "\n",
      "lr= 0.001 batch_size= 10000 shuffle= True\n",
      "epoch 0 \t train_acc 0.10083333333333333 \t loss: 137315.60945510864\n",
      "epoch 1 \t train_acc 0.15701666666666667 \t loss: 132894.7377204895\n",
      "epoch 2 \t train_acc 0.2639166666666667 \t loss: 122484.67683792114\n",
      "epoch 3 \t train_acc 0.4552333333333333 \t loss: 103364.99810218811\n",
      "epoch 4 \t train_acc 0.5878333333333333 \t loss: 79643.12791824341\n",
      "epoch 5 \t train_acc 0.61195 \t loss: 64882.42268562317\n",
      "epoch 6 \t train_acc 0.6334833333333333 \t loss: 58791.00143909454\n",
      "epoch 7 \t train_acc 0.6592833333333333 \t loss: 55042.90461540222\n",
      "epoch 8 \t train_acc 0.67315 \t loss: 52162.134647369385\n",
      "epoch 9 \t train_acc 0.6922166666666667 \t loss: 49711.28284931183\n",
      "\n",
      "lr= 0.001 batch_size= 10000 shuffle= False\n",
      "epoch 0 \t train_acc 0.10746666666666667 \t loss: 138031.14414215088\n",
      "epoch 1 \t train_acc 0.22633333333333333 \t loss: 136950.51431655884\n",
      "epoch 2 \t train_acc 0.38866666666666666 \t loss: 134064.1975402832\n",
      "epoch 3 \t train_acc 0.42833333333333334 \t loss: 126608.94632339478\n",
      "epoch 4 \t train_acc 0.4623 \t loss: 111633.1672668457\n",
      "epoch 5 \t train_acc 0.5242666666666667 \t loss: 90473.43730926514\n",
      "epoch 6 \t train_acc 0.60345 \t loss: 71931.59341812134\n",
      "epoch 7 \t train_acc 0.6314 \t loss: 60832.90696144104\n",
      "epoch 8 \t train_acc 0.6554333333333333 \t loss: 54534.34765338898\n",
      "epoch 9 \t train_acc 0.68175 \t loss: 50624.486207962036\n",
      "\n",
      "lr= 0.0001 batch_size= 10 shuffle= True\n",
      "epoch 0 \t train_acc 0.6725166666666667 \t loss: 53205.82867927849\n",
      "epoch 1 \t train_acc 0.7682166666666667 \t loss: 36446.049974262714\n",
      "epoch 2 \t train_acc 0.7952666666666667 \t loss: 32314.36514597386\n",
      "epoch 3 \t train_acc 0.81675 \t loss: 29615.09307364002\n",
      "epoch 4 \t train_acc 0.8310166666666666 \t loss: 27654.16864893399\n",
      "epoch 5 \t train_acc 0.8427666666666667 \t loss: 25927.96227734536\n",
      "epoch 6 \t train_acc 0.8511666666666666 \t loss: 24640.578448502347\n",
      "epoch 7 \t train_acc 0.8571 \t loss: 23569.309071889147\n",
      "epoch 8 \t train_acc 0.8624666666666667 \t loss: 22663.425979779568\n",
      "epoch 9 \t train_acc 0.8665166666666667 \t loss: 21968.48841116298\n",
      "\n",
      "lr= 0.0001 batch_size= 10 shuffle= False\n",
      "epoch 0 \t train_acc 0.6772333333333334 \t loss: 51979.370401501656\n",
      "epoch 1 \t train_acc 0.7643833333333333 \t loss: 36691.935146562755\n",
      "epoch 2 \t train_acc 0.7927 \t loss: 32674.86182187684\n",
      "epoch 3 \t train_acc 0.8130833333333334 \t loss: 30040.707980073057\n",
      "epoch 4 \t train_acc 0.8286833333333333 \t loss: 28109.643791862763\n",
      "epoch 5 \t train_acc 0.8393166666666667 \t loss: 26515.539002008736\n",
      "epoch 6 \t train_acc 0.8480166666666666 \t loss: 25130.556539762765\n",
      "epoch 7 \t train_acc 0.8560833333333333 \t loss: 23958.765176588204\n",
      "epoch 8 \t train_acc 0.8614833333333334 \t loss: 22984.220915269107\n",
      "epoch 9 \t train_acc 0.8664666666666667 \t loss: 22151.954444986768\n",
      "\n",
      "lr= 0.0001 batch_size= 100 shuffle= True\n",
      "epoch 0 \t train_acc 0.5187166666666667 \t loss: 86246.38825654984\n",
      "epoch 1 \t train_acc 0.7025666666666667 \t loss: 47444.50589418411\n",
      "epoch 2 \t train_acc 0.7266166666666667 \t loss: 42721.13186120987\n",
      "epoch 3 \t train_acc 0.7465 \t loss: 39848.41179549694\n",
      "epoch 4 \t train_acc 0.7579833333333333 \t loss: 37984.87314581871\n",
      "epoch 5 \t train_acc 0.77005 \t loss: 36524.79959130287\n",
      "epoch 6 \t train_acc 0.7763333333333333 \t loss: 35487.40108907223\n",
      "epoch 7 \t train_acc 0.7828666666666667 \t loss: 34566.95503592491\n",
      "epoch 8 \t train_acc 0.7886666666666666 \t loss: 33756.06468915939\n",
      "epoch 9 \t train_acc 0.7952166666666667 \t loss: 32992.67110526562\n",
      "\n",
      "lr= 0.0001 batch_size= 100 shuffle= False\n",
      "epoch 0 \t train_acc 0.5358333333333334 \t loss: 82341.68332219124\n",
      "epoch 1 \t train_acc 0.7059166666666666 \t loss: 47374.07098412514\n",
      "epoch 2 \t train_acc 0.72785 \t loss: 43391.55415594578\n",
      "epoch 3 \t train_acc 0.7407166666666667 \t loss: 40981.86155855656\n",
      "epoch 4 \t train_acc 0.7520333333333333 \t loss: 39282.64171183109\n",
      "epoch 5 \t train_acc 0.76115 \t loss: 37949.96485412121\n",
      "epoch 6 \t train_acc 0.7698833333333334 \t loss: 36783.28392505646\n",
      "epoch 7 \t train_acc 0.7773 \t loss: 35691.661712527275\n",
      "epoch 8 \t train_acc 0.7846666666666666 \t loss: 34650.231620669365\n",
      "epoch 9 \t train_acc 0.7918166666666666 \t loss: 33667.32679307461\n",
      "\n",
      "lr= 0.0001 batch_size= 1000 shuffle= True\n",
      "epoch 0 \t train_acc 0.17115 \t loss: 137437.51907348633\n",
      "epoch 1 \t train_acc 0.37023333333333336 \t loss: 130470.20816802979\n",
      "epoch 2 \t train_acc 0.42141666666666666 \t loss: 107151.54314041138\n",
      "epoch 3 \t train_acc 0.5481166666666667 \t loss: 79692.82758235931\n",
      "epoch 4 \t train_acc 0.6315666666666667 \t loss: 63802.788853645325\n",
      "epoch 5 \t train_acc 0.6710833333333334 \t loss: 55606.37044906616\n",
      "epoch 6 \t train_acc 0.691 \t loss: 51054.80146408081\n",
      "epoch 7 \t train_acc 0.7070666666666666 \t loss: 48397.94319868088\n",
      "epoch 8 \t train_acc 0.7174166666666667 \t loss: 46539.28917646408\n",
      "epoch 9 \t train_acc 0.72615 \t loss: 45020.817160606384\n",
      "\n",
      "lr= 0.0001 batch_size= 1000 shuffle= False\n",
      "epoch 0 \t train_acc 0.21275 \t loss: 137417.45781898499\n",
      "epoch 1 \t train_acc 0.38856666666666667 \t loss: 128963.16003799438\n",
      "epoch 2 \t train_acc 0.5117333333333334 \t loss: 96811.29932403564\n",
      "epoch 3 \t train_acc 0.6273666666666666 \t loss: 69770.40898799896\n",
      "epoch 4 \t train_acc 0.65605 \t loss: 58869.796335697174\n",
      "epoch 5 \t train_acc 0.6773166666666667 \t loss: 53192.78460741043\n",
      "epoch 6 \t train_acc 0.6926 \t loss: 49976.148784160614\n",
      "epoch 7 \t train_acc 0.7030833333333333 \t loss: 47821.36642932892\n",
      "epoch 8 \t train_acc 0.71115 \t loss: 46148.41592311859\n",
      "epoch 9 \t train_acc 0.7186 \t loss: 44716.719686985016\n",
      "\n",
      "lr= 0.0001 batch_size= 10000 shuffle= True\n",
      "epoch 0 \t train_acc 0.1 \t loss: 138269.02866363525\n",
      "epoch 1 \t train_acc 0.1 \t loss: 138125.06198883057\n",
      "epoch 2 \t train_acc 0.1 \t loss: 137968.3780670166\n",
      "epoch 3 \t train_acc 0.1 \t loss: 137781.7416191101\n",
      "epoch 4 \t train_acc 0.10003333333333334 \t loss: 137561.84577941895\n",
      "epoch 5 \t train_acc 0.10178333333333334 \t loss: 137305.3002357483\n",
      "epoch 6 \t train_acc 0.1145 \t loss: 136990.56148529053\n",
      "epoch 7 \t train_acc 0.15111666666666668 \t loss: 136602.21576690674\n",
      "epoch 8 \t train_acc 0.20985 \t loss: 136126.30367279053\n",
      "epoch 9 \t train_acc 0.2594166666666667 \t loss: 135535.21394729614\n",
      "\n",
      "lr= 0.0001 batch_size= 10000 shuffle= False\n",
      "epoch 0 \t train_acc 0.1 \t loss: 138259.69457626343\n",
      "epoch 1 \t train_acc 0.1 \t loss: 138027.5845527649\n",
      "epoch 2 \t train_acc 0.1002 \t loss: 137781.09788894653\n",
      "epoch 3 \t train_acc 0.12041666666666667 \t loss: 137497.62773513794\n",
      "epoch 4 \t train_acc 0.16218333333333335 \t loss: 137163.1145477295\n",
      "epoch 5 \t train_acc 0.17176666666666668 \t loss: 136755.82647323608\n",
      "epoch 6 \t train_acc 0.179 \t loss: 136254.47750091553\n",
      "epoch 7 \t train_acc 0.19548333333333334 \t loss: 135671.9446182251\n",
      "epoch 8 \t train_acc 0.21628333333333333 \t loss: 134983.9973449707\n",
      "epoch 9 \t train_acc 0.23395 \t loss: 134156.83507919312\n",
      "\n",
      "lr= 1e-05 batch_size= 10 shuffle= True\n",
      "epoch 0 \t train_acc 0.38845 \t loss: 107779.8486328125\n",
      "epoch 1 \t train_acc 0.6631166666666667 \t loss: 57693.83215337992\n",
      "epoch 2 \t train_acc 0.698 \t loss: 49816.05080038309\n",
      "epoch 3 \t train_acc 0.7120166666666666 \t loss: 46635.15296883881\n",
      "epoch 4 \t train_acc 0.7217166666666667 \t loss: 44714.95912991464\n",
      "epoch 5 \t train_acc 0.7283333333333334 \t loss: 43305.43670281768\n",
      "epoch 6 \t train_acc 0.7342 \t loss: 42124.30192351341\n",
      "epoch 7 \t train_acc 0.7400166666666667 \t loss: 41122.87563499063\n",
      "epoch 8 \t train_acc 0.7459666666666667 \t loss: 40234.404415525496\n",
      "epoch 9 \t train_acc 0.7506333333333334 \t loss: 39456.06277190149\n",
      "\n",
      "lr= 1e-05 batch_size= 10 shuffle= False\n",
      "epoch 0 \t train_acc 0.42946666666666666 \t loss: 100566.97581470013\n",
      "epoch 1 \t train_acc 0.6425 \t loss: 57745.81552773714\n",
      "epoch 2 \t train_acc 0.6749 \t loss: 52438.98983642459\n",
      "epoch 3 \t train_acc 0.6935666666666667 \t loss: 49496.6076477617\n",
      "epoch 4 \t train_acc 0.7059666666666666 \t loss: 47318.28556526452\n",
      "epoch 5 \t train_acc 0.7148666666666667 \t loss: 45525.961668640375\n",
      "epoch 6 \t train_acc 0.7232333333333333 \t loss: 44031.95854112506\n",
      "epoch 7 \t train_acc 0.7311 \t loss: 42778.85962471366\n",
      "epoch 8 \t train_acc 0.7377333333333334 \t loss: 41713.844690583646\n",
      "epoch 9 \t train_acc 0.7435333333333334 \t loss: 40798.350218087435\n",
      "\n",
      "lr= 1e-05 batch_size= 100 shuffle= True\n",
      "epoch 0 \t train_acc 0.1293 \t loss: 136284.3730211258\n",
      "epoch 1 \t train_acc 0.29331666666666667 \t loss: 123335.83973646164\n",
      "epoch 2 \t train_acc 0.4755666666666667 \t loss: 96745.78090906143\n",
      "epoch 3 \t train_acc 0.5808833333333333 \t loss: 77007.23139047623\n",
      "epoch 4 \t train_acc 0.6134333333333334 \t loss: 66647.12226986885\n",
      "epoch 5 \t train_acc 0.636 \t loss: 60927.79724597931\n",
      "epoch 6 \t train_acc 0.6520333333333334 \t loss: 57323.93047809601\n",
      "epoch 7 \t train_acc 0.6642 \t loss: 54736.82823777199\n",
      "epoch 8 \t train_acc 0.6734333333333333 \t loss: 52790.90767502785\n",
      "epoch 9 \t train_acc 0.6814166666666667 \t loss: 51243.87980103493\n",
      "\n",
      "lr= 1e-05 batch_size= 100 shuffle= False\n",
      "epoch 0 \t train_acc 0.20745 \t loss: 136457.47544765472\n",
      "epoch 1 \t train_acc 0.422 \t loss: 126818.28917264938\n",
      "epoch 2 \t train_acc 0.4624 \t loss: 102701.52196884155\n",
      "epoch 3 \t train_acc 0.5879333333333333 \t loss: 80431.91964626312\n",
      "epoch 4 \t train_acc 0.6185333333333334 \t loss: 68582.86874294281\n",
      "epoch 5 \t train_acc 0.6345333333333333 \t loss: 62325.29373168945\n",
      "epoch 6 \t train_acc 0.6464 \t loss: 58524.504375457764\n",
      "epoch 7 \t train_acc 0.65715 \t loss: 55934.05303955078\n",
      "epoch 8 \t train_acc 0.6669166666666667 \t loss: 54005.58484196663\n",
      "epoch 9 \t train_acc 0.6759166666666667 \t loss: 52465.41700363159\n",
      "\n",
      "lr= 1e-05 batch_size= 1000 shuffle= True\n",
      "epoch 0 \t train_acc 0.11058333333333334 \t loss: 138258.78643989563\n",
      "epoch 1 \t train_acc 0.12098333333333333 \t loss: 138078.71103286743\n",
      "epoch 2 \t train_acc 0.13236666666666666 \t loss: 137876.76668167114\n",
      "epoch 3 \t train_acc 0.14116666666666666 \t loss: 137638.4937763214\n",
      "epoch 4 \t train_acc 0.17451666666666665 \t loss: 137341.41993522644\n",
      "epoch 5 \t train_acc 0.24916666666666668 \t loss: 136976.76873207092\n",
      "epoch 6 \t train_acc 0.27931666666666666 \t loss: 136524.94883537292\n",
      "epoch 7 \t train_acc 0.3099166666666667 \t loss: 135975.3077030182\n",
      "epoch 8 \t train_acc 0.33881666666666665 \t loss: 135287.64820098877\n",
      "epoch 9 \t train_acc 0.3567166666666667 \t loss: 134405.7228565216\n",
      "\n",
      "lr= 1e-05 batch_size= 1000 shuffle= False\n",
      "epoch 0 \t train_acc 0.09616666666666666 \t loss: 138170.65525054932\n",
      "epoch 1 \t train_acc 0.10086666666666666 \t loss: 138019.6681022644\n",
      "epoch 2 \t train_acc 0.12698333333333334 \t loss: 137838.12618255615\n",
      "epoch 3 \t train_acc 0.17193333333333333 \t loss: 137607.96761512756\n",
      "epoch 4 \t train_acc 0.19681666666666667 \t loss: 137291.52274131775\n",
      "epoch 5 \t train_acc 0.19545 \t loss: 136828.4511566162\n",
      "epoch 6 \t train_acc 0.24093333333333333 \t loss: 136180.2155971527\n",
      "epoch 7 \t train_acc 0.32488333333333336 \t loss: 135320.4128742218\n",
      "epoch 8 \t train_acc 0.3904166666666667 \t loss: 134235.16988754272\n",
      "epoch 9 \t train_acc 0.4197 \t loss: 132945.36447525024\n",
      "\n",
      "lr= 1e-05 batch_size= 10000 shuffle= True\n",
      "epoch 0 \t train_acc 0.1 \t loss: 138367.0139312744\n",
      "epoch 1 \t train_acc 0.1 \t loss: 138350.10766983032\n",
      "epoch 2 \t train_acc 0.1 \t loss: 138333.44221115112\n",
      "epoch 3 \t train_acc 0.1 \t loss: 138316.69330596924\n",
      "epoch 4 \t train_acc 0.1 \t loss: 138300.03261566162\n",
      "epoch 5 \t train_acc 0.1 \t loss: 138283.28132629395\n",
      "epoch 6 \t train_acc 0.1 \t loss: 138266.08419418335\n",
      "epoch 7 \t train_acc 0.1 \t loss: 138249.1683959961\n",
      "epoch 8 \t train_acc 0.1 \t loss: 138231.9974899292\n",
      "epoch 9 \t train_acc 0.1 \t loss: 138214.75982666016\n",
      "\n",
      "lr= 1e-05 batch_size= 10000 shuffle= False\n",
      "epoch 0 \t train_acc 0.1 \t loss: 138346.59814834595\n",
      "epoch 1 \t train_acc 0.1 \t loss: 138339.1523361206\n",
      "epoch 2 \t train_acc 0.1 \t loss: 138331.937789917\n",
      "epoch 3 \t train_acc 0.1 \t loss: 138324.76377487183\n",
      "epoch 4 \t train_acc 0.1 \t loss: 138317.4467086792\n",
      "epoch 5 \t train_acc 0.1 \t loss: 138310.48727035522\n",
      "epoch 6 \t train_acc 0.1 \t loss: 138303.1964302063\n",
      "epoch 7 \t train_acc 0.1 \t loss: 138295.91989517212\n",
      "epoch 8 \t train_acc 0.1 \t loss: 138288.51699829102\n",
      "epoch 9 \t train_acc 0.1 \t loss: 138281.1665534973\n"
     ]
    }
   ],
   "source": [
    "lr_list = [0.1, 0.01, 0.001,0.0001, 0.00001]\n",
    "batch_size_list = [10, 100, 1000,10000]\n",
    "shuffle_list = [True, False]\n",
    "\n",
    "# hyperparameter grid search\n",
    "for param in product(lr_list, batch_size_list, shuffle_list):\n",
    "    train(*param, num_epochs=10)"
   ]
  },
  {
   "cell_type": "markdown",
   "metadata": {},
   "source": [
    "With \"lr= 0.001, batch_size= 10, shuffle= False\", highest accuracy of 91.221% is achieved"
   ]
  }
 ],
 "metadata": {
  "kernelspec": {
   "display_name": "Python 3",
   "language": "python",
   "name": "python3"
  },
  "language_info": {
   "codemirror_mode": {
    "name": "ipython",
    "version": 3
   },
   "file_extension": ".py",
   "mimetype": "text/x-python",
   "name": "python",
   "nbconvert_exporter": "python",
   "pygments_lexer": "ipython3",
   "version": "3.6.5"
  }
 },
 "nbformat": 4,
 "nbformat_minor": 2
}
